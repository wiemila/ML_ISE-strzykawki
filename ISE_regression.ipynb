{
  "cells": [
    {
      "cell_type": "markdown",
      "metadata": {
        "id": "view-in-github",
        "colab_type": "text"
      },
      "source": [
        "<a href=\"https://colab.research.google.com/github/wiemila/ML_ISE-strzykawki/blob/main/ISE_regression.ipynb\" target=\"_parent\"><img src=\"https://colab.research.google.com/assets/colab-badge.svg\" alt=\"Open In Colab\"/></a>"
      ]
    },
    {
      "cell_type": "markdown",
      "metadata": {
        "id": "BlZJQxNlRSET"
      },
      "source": [
        "# Data preprocessing"
      ]
    },
    {
      "cell_type": "markdown",
      "metadata": {
        "id": "EoRP98MpR-qj"
      },
      "source": [
        "## Importing the libraries"
      ]
    },
    {
      "cell_type": "code",
      "execution_count": 1,
      "metadata": {
        "id": "N-qiINBQSK2g"
      },
      "outputs": [],
      "source": [
        "import numpy as np\n",
        "import matplotlib.pyplot as plt\n",
        "import pandas as pd\n",
        "import seaborn as sns"
      ]
    },
    {
      "cell_type": "markdown",
      "metadata": {
        "id": "RopL7tUZSQkT"
      },
      "source": [
        "## Importing the dataset"
      ]
    },
    {
      "cell_type": "code",
      "source": [
        "from google.colab import files\n",
        "uploaded = files.upload()"
      ],
      "metadata": {
        "colab": {
          "base_uri": "https://localhost:8080/",
          "height": 73
        },
        "id": "TllOXeiuUEWs",
        "outputId": "158f5f7d-702f-4888-8c82-04b8d87b3dd4"
      },
      "execution_count": 2,
      "outputs": [
        {
          "output_type": "display_data",
          "data": {
            "text/plain": [
              "<IPython.core.display.HTML object>"
            ],
            "text/html": [
              "\n",
              "     <input type=\"file\" id=\"files-bf15d40e-593f-46ba-939e-e9230605c8f9\" name=\"files[]\" multiple disabled\n",
              "        style=\"border:none\" />\n",
              "     <output id=\"result-bf15d40e-593f-46ba-939e-e9230605c8f9\">\n",
              "      Upload widget is only available when the cell has been executed in the\n",
              "      current browser session. Please rerun this cell to enable.\n",
              "      </output>\n",
              "      <script>// Copyright 2017 Google LLC\n",
              "//\n",
              "// Licensed under the Apache License, Version 2.0 (the \"License\");\n",
              "// you may not use this file except in compliance with the License.\n",
              "// You may obtain a copy of the License at\n",
              "//\n",
              "//      http://www.apache.org/licenses/LICENSE-2.0\n",
              "//\n",
              "// Unless required by applicable law or agreed to in writing, software\n",
              "// distributed under the License is distributed on an \"AS IS\" BASIS,\n",
              "// WITHOUT WARRANTIES OR CONDITIONS OF ANY KIND, either express or implied.\n",
              "// See the License for the specific language governing permissions and\n",
              "// limitations under the License.\n",
              "\n",
              "/**\n",
              " * @fileoverview Helpers for google.colab Python module.\n",
              " */\n",
              "(function(scope) {\n",
              "function span(text, styleAttributes = {}) {\n",
              "  const element = document.createElement('span');\n",
              "  element.textContent = text;\n",
              "  for (const key of Object.keys(styleAttributes)) {\n",
              "    element.style[key] = styleAttributes[key];\n",
              "  }\n",
              "  return element;\n",
              "}\n",
              "\n",
              "// Max number of bytes which will be uploaded at a time.\n",
              "const MAX_PAYLOAD_SIZE = 100 * 1024;\n",
              "\n",
              "function _uploadFiles(inputId, outputId) {\n",
              "  const steps = uploadFilesStep(inputId, outputId);\n",
              "  const outputElement = document.getElementById(outputId);\n",
              "  // Cache steps on the outputElement to make it available for the next call\n",
              "  // to uploadFilesContinue from Python.\n",
              "  outputElement.steps = steps;\n",
              "\n",
              "  return _uploadFilesContinue(outputId);\n",
              "}\n",
              "\n",
              "// This is roughly an async generator (not supported in the browser yet),\n",
              "// where there are multiple asynchronous steps and the Python side is going\n",
              "// to poll for completion of each step.\n",
              "// This uses a Promise to block the python side on completion of each step,\n",
              "// then passes the result of the previous step as the input to the next step.\n",
              "function _uploadFilesContinue(outputId) {\n",
              "  const outputElement = document.getElementById(outputId);\n",
              "  const steps = outputElement.steps;\n",
              "\n",
              "  const next = steps.next(outputElement.lastPromiseValue);\n",
              "  return Promise.resolve(next.value.promise).then((value) => {\n",
              "    // Cache the last promise value to make it available to the next\n",
              "    // step of the generator.\n",
              "    outputElement.lastPromiseValue = value;\n",
              "    return next.value.response;\n",
              "  });\n",
              "}\n",
              "\n",
              "/**\n",
              " * Generator function which is called between each async step of the upload\n",
              " * process.\n",
              " * @param {string} inputId Element ID of the input file picker element.\n",
              " * @param {string} outputId Element ID of the output display.\n",
              " * @return {!Iterable<!Object>} Iterable of next steps.\n",
              " */\n",
              "function* uploadFilesStep(inputId, outputId) {\n",
              "  const inputElement = document.getElementById(inputId);\n",
              "  inputElement.disabled = false;\n",
              "\n",
              "  const outputElement = document.getElementById(outputId);\n",
              "  outputElement.innerHTML = '';\n",
              "\n",
              "  const pickedPromise = new Promise((resolve) => {\n",
              "    inputElement.addEventListener('change', (e) => {\n",
              "      resolve(e.target.files);\n",
              "    });\n",
              "  });\n",
              "\n",
              "  const cancel = document.createElement('button');\n",
              "  inputElement.parentElement.appendChild(cancel);\n",
              "  cancel.textContent = 'Cancel upload';\n",
              "  const cancelPromise = new Promise((resolve) => {\n",
              "    cancel.onclick = () => {\n",
              "      resolve(null);\n",
              "    };\n",
              "  });\n",
              "\n",
              "  // Wait for the user to pick the files.\n",
              "  const files = yield {\n",
              "    promise: Promise.race([pickedPromise, cancelPromise]),\n",
              "    response: {\n",
              "      action: 'starting',\n",
              "    }\n",
              "  };\n",
              "\n",
              "  cancel.remove();\n",
              "\n",
              "  // Disable the input element since further picks are not allowed.\n",
              "  inputElement.disabled = true;\n",
              "\n",
              "  if (!files) {\n",
              "    return {\n",
              "      response: {\n",
              "        action: 'complete',\n",
              "      }\n",
              "    };\n",
              "  }\n",
              "\n",
              "  for (const file of files) {\n",
              "    const li = document.createElement('li');\n",
              "    li.append(span(file.name, {fontWeight: 'bold'}));\n",
              "    li.append(span(\n",
              "        `(${file.type || 'n/a'}) - ${file.size} bytes, ` +\n",
              "        `last modified: ${\n",
              "            file.lastModifiedDate ? file.lastModifiedDate.toLocaleDateString() :\n",
              "                                    'n/a'} - `));\n",
              "    const percent = span('0% done');\n",
              "    li.appendChild(percent);\n",
              "\n",
              "    outputElement.appendChild(li);\n",
              "\n",
              "    const fileDataPromise = new Promise((resolve) => {\n",
              "      const reader = new FileReader();\n",
              "      reader.onload = (e) => {\n",
              "        resolve(e.target.result);\n",
              "      };\n",
              "      reader.readAsArrayBuffer(file);\n",
              "    });\n",
              "    // Wait for the data to be ready.\n",
              "    let fileData = yield {\n",
              "      promise: fileDataPromise,\n",
              "      response: {\n",
              "        action: 'continue',\n",
              "      }\n",
              "    };\n",
              "\n",
              "    // Use a chunked sending to avoid message size limits. See b/62115660.\n",
              "    let position = 0;\n",
              "    do {\n",
              "      const length = Math.min(fileData.byteLength - position, MAX_PAYLOAD_SIZE);\n",
              "      const chunk = new Uint8Array(fileData, position, length);\n",
              "      position += length;\n",
              "\n",
              "      const base64 = btoa(String.fromCharCode.apply(null, chunk));\n",
              "      yield {\n",
              "        response: {\n",
              "          action: 'append',\n",
              "          file: file.name,\n",
              "          data: base64,\n",
              "        },\n",
              "      };\n",
              "\n",
              "      let percentDone = fileData.byteLength === 0 ?\n",
              "          100 :\n",
              "          Math.round((position / fileData.byteLength) * 100);\n",
              "      percent.textContent = `${percentDone}% done`;\n",
              "\n",
              "    } while (position < fileData.byteLength);\n",
              "  }\n",
              "\n",
              "  // All done.\n",
              "  yield {\n",
              "    response: {\n",
              "      action: 'complete',\n",
              "    }\n",
              "  };\n",
              "}\n",
              "\n",
              "scope.google = scope.google || {};\n",
              "scope.google.colab = scope.google.colab || {};\n",
              "scope.google.colab._files = {\n",
              "  _uploadFiles,\n",
              "  _uploadFilesContinue,\n",
              "};\n",
              "})(self);\n",
              "</script> "
            ]
          },
          "metadata": {}
        },
        {
          "output_type": "stream",
          "name": "stdout",
          "text": [
            "Saving Dane pomidoryEJ3regression.csv to Dane pomidoryEJ3regression.csv\n"
          ]
        }
      ]
    },
    {
      "cell_type": "code",
      "source": [
        "import io\n",
        "df = pd.read_csv(io.BytesIO(uploaded['Dane pomidoryEJ3regression.csv']),delimiter=';')"
      ],
      "metadata": {
        "id": "a5dbgXRIUUck"
      },
      "execution_count": 5,
      "outputs": []
    },
    {
      "cell_type": "code",
      "source": [
        "df"
      ],
      "metadata": {
        "colab": {
          "base_uri": "https://localhost:8080/",
          "height": 1000
        },
        "id": "A1SnvoyJZNEv",
        "outputId": "6aed3314-8b3e-4a0c-a714-764250a9c76a"
      },
      "execution_count": 6,
      "outputs": [
        {
          "output_type": "execute_result",
          "data": {
            "text/plain": [
              "                          Nazwa próbki  Kod  Rodzaj próbki  Powtórzenie  \\\n",
              "0                              Daktyle    1              1            1   \n",
              "1                              Daktyle    1              1            2   \n",
              "2                              Daktyle    1              1            3   \n",
              "3           barszcz diluted 45mlH2O5ml    2              2            1   \n",
              "4           barszcz diluted 45mlH2O5ml    2              2            2   \n",
              "5           barszcz diluted 45mlH2O5ml    2              2            3   \n",
              "6                     Tarczyn pikantny    3              3            1   \n",
              "7                     Tarczyn pikantny    3              3            2   \n",
              "8                     Tarczyn pikantny    3              3            3   \n",
              "9            tymbark klasyczny E190127    4              3            1   \n",
              "10           tymbark klasyczny E190127    4              3            2   \n",
              "11           tymbark klasyczny E190127    4              3            3   \n",
              "12      Tymbark szkło pomidor pikantny    5              3            1   \n",
              "13      Tymbark szkło pomidor pikantny    5              3            2   \n",
              "14      Tymbark szkło pomidor pikantny    5              3            3   \n",
              "15           tymbark klasyczny E190147    6              3            1   \n",
              "16           tymbark klasyczny E190147    6              3            2   \n",
              "17           tymbark klasyczny E190147    6              3            3   \n",
              "18                      hortex pomidor    7              3            1   \n",
              "19                      hortex pomidor    7              3            2   \n",
              "20                      hortex pomidor    7              3            3   \n",
              "21  passata łowicz przecier pomidorowy    8              4            1   \n",
              "22  passata łowicz przecier pomidorowy    8              4            2   \n",
              "23  passata łowicz przecier pomidorowy    8              4            3   \n",
              "24         Tymbark karton sok bananowy    9              5            1   \n",
              "25         Tymbark karton sok bananowy    9              5            2   \n",
              "26         Tymbark karton sok bananowy    9              5            3   \n",
              "27                         muszynianka   10              6            1   \n",
              "28                         muszynianka   10              6            2   \n",
              "29                         muszynianka   10              6            3   \n",
              "30                        staropolanka   11              6            1   \n",
              "31                        staropolanka   11              6            2   \n",
              "32                        staropolanka   11              6            3   \n",
              "33                            rodowita   12              6            1   \n",
              "34                            rodowita   12              6            2   \n",
              "35                            rodowita   12              6            3   \n",
              "36                  ZiNIQ+ Elektrolity   13              7            1   \n",
              "37                  ZiNIQ+ Elektrolity   13              7            2   \n",
              "38                  ZiNIQ+ Elektrolity   13              7            3   \n",
              "39                cytrynian potasu sup   14              7            1   \n",
              "40                cytrynian potasu sup   14              7            2   \n",
              "41                cytrynian potasu sup   14              7            3   \n",
              "42          tarczyn sól morska E190133   15              3            1   \n",
              "43          tarczyn sól morska E190133   15              3            2   \n",
              "44          tarczyn sól morska E190133   15              3            3   \n",
              "45          tarczyn sól morska E190118   16              3            1   \n",
              "46          tarczyn sól morska E190118   16              3            2   \n",
              "47          tarczyn sól morska E190118   16              3            3   \n",
              "\n",
              "   Nazwa kodowana      DB 5     DB 4         V5     V5_2?        V1      K+ 3  \\\n",
              "0             1_1  0.059854  0.057588  0.065035  0.057519  0.051446  0.078237   \n",
              "1             1_2  0.057857  0.056254  0.065364  0.057579  0.052227  0.078046   \n",
              "2             1_3  0.058485  0.055429  0.064738  0.057005  0.052502  0.076055   \n",
              "3             2_1  0.038312  0.039212  0.019193  0.011543  0.006914  0.059757   \n",
              "4             2_2  0.037089  0.036088  0.019765  0.012179  0.008509  0.058625   \n",
              "5             2_3  0.035396  0.034784  0.019934  0.012076  0.008804  0.063084   \n",
              "6             3_1  0.040190  0.045397  0.052381  0.046022  0.042542  0.066758   \n",
              "7             3_2  0.039192  0.043449  0.053069  0.046838  0.039626  0.067226   \n",
              "8             3_3  0.037254  0.042032  0.052958  0.047610  0.040037  0.066217   \n",
              "9             4_1  0.053386  0.044935  0.053164  0.046879  0.042424  0.065351   \n",
              "10            4_2  0.041351  0.043190  0.053828  0.048187  0.040211  0.066519   \n",
              "11            4_3  0.038825  0.041900  0.053825  0.048316  0.040309  0.069414   \n",
              "12            5_1  0.054883  0.044251  0.054797  0.047023  0.043121  0.068626   \n",
              "13            5_2  0.040097  0.042657  0.054862  0.048225  0.040695  0.067383   \n",
              "14            5_3  0.038249  0.041282  0.055070  0.048663  0.040591  0.068434   \n",
              "15            6_1  0.039316  0.043079  0.053585  0.044266  0.042628  0.066402   \n",
              "16            6_2  0.041957  0.041656  0.053547  0.044820  0.042902  0.066524   \n",
              "17            6_3  0.037537  0.039954  0.051972  0.044671  0.041838  0.069333   \n",
              "18            7_1  0.036552  0.040631  0.055269  0.046352  0.040488  0.072227   \n",
              "19            7_2  0.039687  0.039817  0.052869  0.047773  0.040196  0.074571   \n",
              "20            7_3  0.037595  0.038110  0.053268  0.048437  0.040266  0.067908   \n",
              "21            8_1  0.048771  0.053845  0.064308  0.052970  0.048336  0.069011   \n",
              "22            8_2  0.049422  0.050854  0.064601  0.052680  0.049122  0.081962   \n",
              "23            8_3  0.047215  0.047829  0.062416  0.053857  0.049483  0.080430   \n",
              "24            9_1  0.028053  0.032715  0.052373  0.036663  0.031211  0.053663   \n",
              "25            9_2  0.030175  0.032477  0.047479  0.037398  0.030450  0.052383   \n",
              "26            9_3  0.027282  0.030347  0.045888  0.037912  0.031428  0.052995   \n",
              "27           10_1 -0.059893 -0.047454 -0.052169 -0.074505 -0.077744 -0.035296   \n",
              "28           10_2 -0.069765 -0.047380 -0.049276 -0.073487 -0.079662 -0.040850   \n",
              "29           10_3 -0.073554 -0.046703 -0.047050 -0.072766 -0.080354 -0.040697   \n",
              "30           11_1 -0.042186 -0.031902 -0.029096 -0.032917 -0.034096 -0.030581   \n",
              "31           11_2 -0.046509 -0.029825 -0.024401 -0.032285 -0.035054 -0.030039   \n",
              "32           11_3 -0.049163 -0.027255 -0.023209 -0.031977 -0.037345 -0.031926   \n",
              "33           12_1 -0.102683 -0.076903 -0.063741 -0.084296 -0.078338 -0.056932   \n",
              "34           12_2 -0.096103 -0.073915 -0.066128 -0.077940 -0.081720 -0.047411   \n",
              "35           12_3 -0.094247 -0.067529 -0.072166 -0.076617 -0.083341 -0.054573   \n",
              "36           13_1  0.008381  0.019248  0.025889  0.009202  0.007637  0.043998   \n",
              "37           13_2  0.003885  0.019113  0.022761  0.010616  0.007773  0.036771   \n",
              "38           13_3  0.003227  0.017188  0.020979  0.010158  0.007235  0.034883   \n",
              "39           14_1  0.028837  0.032618  0.046262  0.038444  0.010894  0.045742   \n",
              "40           14_2  0.022206  0.031747  0.037822  0.038751  0.030899  0.044319   \n",
              "41           14_3  0.019711  0.030028  0.034734  0.037335  0.022231  0.042618   \n",
              "42           15_1  0.042070  0.042113  0.051866  0.045422  0.040931  0.058476   \n",
              "43           15_2  0.041018  0.040417  0.051625  0.045750  0.041017  0.068779   \n",
              "44           15_3  0.036582  0.040293  0.052644  0.046615  0.039203  0.069490   \n",
              "45           16_1  0.038469  0.041785  0.054324  0.045435  0.042628  0.071819   \n",
              "46           16_2  0.038138  0.039630  0.053064  0.046002  0.042902  0.074162   \n",
              "47           16_3  0.040825  0.038302  0.051657  0.045564  0.041838  0.072146   \n",
              "\n",
              "        K+ 5    NH4+ 3  A5-(Cl-)  A-10(Cl-)    NH4+ 2         M  \n",
              "0   0.072612  0.002363  0.040896   0.050755  0.002831  0.052790  \n",
              "1   0.070765  0.001785  0.042695   0.052439  0.000054  0.052790  \n",
              "2   0.071158 -0.002705  0.039837   0.052399 -0.002033  0.052790  \n",
              "3   0.061617  0.018991 -0.025790  -0.017516  0.017514  0.051154  \n",
              "4   0.056393  0.018885 -0.025828  -0.018449  0.015818  0.051154  \n",
              "5   0.060339  0.023850 -0.026117  -0.018555  0.015969  0.051154  \n",
              "6   0.064424  0.013696  0.036756   0.041368  0.013792  0.063942  \n",
              "7   0.066602  0.015298  0.036688   0.042073  0.014737  0.063942  \n",
              "8   0.065831  0.014268  0.037570   0.042224  0.013817  0.063942  \n",
              "9   0.063011  0.014777  0.036836   0.042851  0.013724  0.063942  \n",
              "10  0.066836  0.015080  0.037148   0.043711  0.013590  0.063942  \n",
              "11  0.063245  0.013951  0.036055   0.044571  0.014833  0.063942  \n",
              "12  0.064989  0.016425  0.034016   0.039013  0.015715  0.063942  \n",
              "13  0.061229  0.016887  0.035352   0.040195  0.015256  0.063942  \n",
              "14  0.063220  0.015780  0.036055   0.041130  0.014795  0.063942  \n",
              "15  0.063406  0.016700  0.034180   0.041400  0.014170  0.063942  \n",
              "16  0.065493  0.016650  0.033399   0.041368  0.012622  0.063942  \n",
              "17  0.063653  0.016422  0.034925   0.042345  0.011995  0.063942  \n",
              "18  0.061402  0.012413  0.036992   0.041632  0.012806  0.061384  \n",
              "19  0.062071  0.011221  0.040765   0.045188  0.013994  0.061384  \n",
              "20  0.064090  0.011712  0.040430   0.044873  0.014805  0.061384  \n",
              "21  0.062461  0.024633  0.041612   0.043409  0.021201  0.076730  \n",
              "22  0.062938  0.025175  0.043318   0.042290  0.020238  0.076730  \n",
              "23  0.071080  0.019712  0.044415   0.040692  0.019712  0.076730  \n",
              "24  0.052773 -0.012357  0.048008   0.050165 -0.014164  0.038365  \n",
              "25  0.051670 -0.012324  0.043540   0.051446 -0.013570  0.038365  \n",
              "26  0.050820 -0.012511  0.042993   0.050430 -0.014467  0.038365  \n",
              "27 -0.034334 -0.109956  0.136589   0.130944 -0.125102  0.000192  \n",
              "28 -0.042846 -0.115690  0.138222   0.122305 -0.114321  0.000192  \n",
              "29 -0.044180 -0.116920  0.138932   0.128205 -0.124500  0.000192  \n",
              "30 -0.030586 -0.087567  0.144349   0.162539 -0.098751  0.001159  \n",
              "31 -0.033497 -0.086788  0.144140   0.134258 -0.098615  0.001159  \n",
              "32 -0.034336 -0.088273  0.144193   0.140821 -0.098683  0.001159  \n",
              "33 -0.030117 -0.117041  0.162613   0.141070 -0.123785  0.000179  \n",
              "34 -0.061914 -0.120397  0.162512   0.149805 -0.126532  0.000179  \n",
              "35 -0.062539 -0.122953  0.162268   0.150274 -0.125814  0.000179  \n",
              "36  0.045646 -0.045883  0.059649   0.072151 -0.046189  0.012788  \n",
              "37  0.038454 -0.044427  0.057071   0.068537 -0.047526  0.012788  \n",
              "38  0.033399 -0.044764  0.056211   0.068946 -0.047262  0.012788  \n",
              "39  0.048550 -0.026108  0.097570   0.093175 -0.025657  0.025321  \n",
              "40  0.044956 -0.024906  0.091914   0.091740 -0.026544  0.025321  \n",
              "41  0.041783 -0.024475  0.091889   0.093008 -0.021312  0.025321  \n",
              "42  0.060171  0.013408  0.032731   0.039815  0.012864  0.063942  \n",
              "43  0.062172  0.014532  0.035352   0.042033  0.012483  0.063942  \n",
              "44  0.062675  0.012204  0.036524   0.042922  0.012713  0.063942  \n",
              "45  0.070899  0.012763  0.034704   0.041438  0.013154  0.063942  \n",
              "46  0.071367  0.013870  0.036050   0.041678  0.012738  0.063942  \n",
              "47  0.064497  0.013865  0.036446   0.042540  0.012377  0.063942  "
            ],
            "text/html": [
              "\n",
              "\n",
              "  <div id=\"df-16fd710e-0b82-4682-9412-85dd3d4c14be\">\n",
              "    <div class=\"colab-df-container\">\n",
              "      <div>\n",
              "<style scoped>\n",
              "    .dataframe tbody tr th:only-of-type {\n",
              "        vertical-align: middle;\n",
              "    }\n",
              "\n",
              "    .dataframe tbody tr th {\n",
              "        vertical-align: top;\n",
              "    }\n",
              "\n",
              "    .dataframe thead th {\n",
              "        text-align: right;\n",
              "    }\n",
              "</style>\n",
              "<table border=\"1\" class=\"dataframe\">\n",
              "  <thead>\n",
              "    <tr style=\"text-align: right;\">\n",
              "      <th></th>\n",
              "      <th>Nazwa próbki</th>\n",
              "      <th>Kod</th>\n",
              "      <th>Rodzaj próbki</th>\n",
              "      <th>Powtórzenie</th>\n",
              "      <th>Nazwa kodowana</th>\n",
              "      <th>DB 5</th>\n",
              "      <th>DB 4</th>\n",
              "      <th>V5</th>\n",
              "      <th>V5_2?</th>\n",
              "      <th>V1</th>\n",
              "      <th>K+ 3</th>\n",
              "      <th>K+ 5</th>\n",
              "      <th>NH4+ 3</th>\n",
              "      <th>A5-(Cl-)</th>\n",
              "      <th>A-10(Cl-)</th>\n",
              "      <th>NH4+ 2</th>\n",
              "      <th>M</th>\n",
              "    </tr>\n",
              "  </thead>\n",
              "  <tbody>\n",
              "    <tr>\n",
              "      <th>0</th>\n",
              "      <td>Daktyle</td>\n",
              "      <td>1</td>\n",
              "      <td>1</td>\n",
              "      <td>1</td>\n",
              "      <td>1_1</td>\n",
              "      <td>0.059854</td>\n",
              "      <td>0.057588</td>\n",
              "      <td>0.065035</td>\n",
              "      <td>0.057519</td>\n",
              "      <td>0.051446</td>\n",
              "      <td>0.078237</td>\n",
              "      <td>0.072612</td>\n",
              "      <td>0.002363</td>\n",
              "      <td>0.040896</td>\n",
              "      <td>0.050755</td>\n",
              "      <td>0.002831</td>\n",
              "      <td>0.052790</td>\n",
              "    </tr>\n",
              "    <tr>\n",
              "      <th>1</th>\n",
              "      <td>Daktyle</td>\n",
              "      <td>1</td>\n",
              "      <td>1</td>\n",
              "      <td>2</td>\n",
              "      <td>1_2</td>\n",
              "      <td>0.057857</td>\n",
              "      <td>0.056254</td>\n",
              "      <td>0.065364</td>\n",
              "      <td>0.057579</td>\n",
              "      <td>0.052227</td>\n",
              "      <td>0.078046</td>\n",
              "      <td>0.070765</td>\n",
              "      <td>0.001785</td>\n",
              "      <td>0.042695</td>\n",
              "      <td>0.052439</td>\n",
              "      <td>0.000054</td>\n",
              "      <td>0.052790</td>\n",
              "    </tr>\n",
              "    <tr>\n",
              "      <th>2</th>\n",
              "      <td>Daktyle</td>\n",
              "      <td>1</td>\n",
              "      <td>1</td>\n",
              "      <td>3</td>\n",
              "      <td>1_3</td>\n",
              "      <td>0.058485</td>\n",
              "      <td>0.055429</td>\n",
              "      <td>0.064738</td>\n",
              "      <td>0.057005</td>\n",
              "      <td>0.052502</td>\n",
              "      <td>0.076055</td>\n",
              "      <td>0.071158</td>\n",
              "      <td>-0.002705</td>\n",
              "      <td>0.039837</td>\n",
              "      <td>0.052399</td>\n",
              "      <td>-0.002033</td>\n",
              "      <td>0.052790</td>\n",
              "    </tr>\n",
              "    <tr>\n",
              "      <th>3</th>\n",
              "      <td>barszcz diluted 45mlH2O5ml</td>\n",
              "      <td>2</td>\n",
              "      <td>2</td>\n",
              "      <td>1</td>\n",
              "      <td>2_1</td>\n",
              "      <td>0.038312</td>\n",
              "      <td>0.039212</td>\n",
              "      <td>0.019193</td>\n",
              "      <td>0.011543</td>\n",
              "      <td>0.006914</td>\n",
              "      <td>0.059757</td>\n",
              "      <td>0.061617</td>\n",
              "      <td>0.018991</td>\n",
              "      <td>-0.025790</td>\n",
              "      <td>-0.017516</td>\n",
              "      <td>0.017514</td>\n",
              "      <td>0.051154</td>\n",
              "    </tr>\n",
              "    <tr>\n",
              "      <th>4</th>\n",
              "      <td>barszcz diluted 45mlH2O5ml</td>\n",
              "      <td>2</td>\n",
              "      <td>2</td>\n",
              "      <td>2</td>\n",
              "      <td>2_2</td>\n",
              "      <td>0.037089</td>\n",
              "      <td>0.036088</td>\n",
              "      <td>0.019765</td>\n",
              "      <td>0.012179</td>\n",
              "      <td>0.008509</td>\n",
              "      <td>0.058625</td>\n",
              "      <td>0.056393</td>\n",
              "      <td>0.018885</td>\n",
              "      <td>-0.025828</td>\n",
              "      <td>-0.018449</td>\n",
              "      <td>0.015818</td>\n",
              "      <td>0.051154</td>\n",
              "    </tr>\n",
              "    <tr>\n",
              "      <th>5</th>\n",
              "      <td>barszcz diluted 45mlH2O5ml</td>\n",
              "      <td>2</td>\n",
              "      <td>2</td>\n",
              "      <td>3</td>\n",
              "      <td>2_3</td>\n",
              "      <td>0.035396</td>\n",
              "      <td>0.034784</td>\n",
              "      <td>0.019934</td>\n",
              "      <td>0.012076</td>\n",
              "      <td>0.008804</td>\n",
              "      <td>0.063084</td>\n",
              "      <td>0.060339</td>\n",
              "      <td>0.023850</td>\n",
              "      <td>-0.026117</td>\n",
              "      <td>-0.018555</td>\n",
              "      <td>0.015969</td>\n",
              "      <td>0.051154</td>\n",
              "    </tr>\n",
              "    <tr>\n",
              "      <th>6</th>\n",
              "      <td>Tarczyn pikantny</td>\n",
              "      <td>3</td>\n",
              "      <td>3</td>\n",
              "      <td>1</td>\n",
              "      <td>3_1</td>\n",
              "      <td>0.040190</td>\n",
              "      <td>0.045397</td>\n",
              "      <td>0.052381</td>\n",
              "      <td>0.046022</td>\n",
              "      <td>0.042542</td>\n",
              "      <td>0.066758</td>\n",
              "      <td>0.064424</td>\n",
              "      <td>0.013696</td>\n",
              "      <td>0.036756</td>\n",
              "      <td>0.041368</td>\n",
              "      <td>0.013792</td>\n",
              "      <td>0.063942</td>\n",
              "    </tr>\n",
              "    <tr>\n",
              "      <th>7</th>\n",
              "      <td>Tarczyn pikantny</td>\n",
              "      <td>3</td>\n",
              "      <td>3</td>\n",
              "      <td>2</td>\n",
              "      <td>3_2</td>\n",
              "      <td>0.039192</td>\n",
              "      <td>0.043449</td>\n",
              "      <td>0.053069</td>\n",
              "      <td>0.046838</td>\n",
              "      <td>0.039626</td>\n",
              "      <td>0.067226</td>\n",
              "      <td>0.066602</td>\n",
              "      <td>0.015298</td>\n",
              "      <td>0.036688</td>\n",
              "      <td>0.042073</td>\n",
              "      <td>0.014737</td>\n",
              "      <td>0.063942</td>\n",
              "    </tr>\n",
              "    <tr>\n",
              "      <th>8</th>\n",
              "      <td>Tarczyn pikantny</td>\n",
              "      <td>3</td>\n",
              "      <td>3</td>\n",
              "      <td>3</td>\n",
              "      <td>3_3</td>\n",
              "      <td>0.037254</td>\n",
              "      <td>0.042032</td>\n",
              "      <td>0.052958</td>\n",
              "      <td>0.047610</td>\n",
              "      <td>0.040037</td>\n",
              "      <td>0.066217</td>\n",
              "      <td>0.065831</td>\n",
              "      <td>0.014268</td>\n",
              "      <td>0.037570</td>\n",
              "      <td>0.042224</td>\n",
              "      <td>0.013817</td>\n",
              "      <td>0.063942</td>\n",
              "    </tr>\n",
              "    <tr>\n",
              "      <th>9</th>\n",
              "      <td>tymbark klasyczny E190127</td>\n",
              "      <td>4</td>\n",
              "      <td>3</td>\n",
              "      <td>1</td>\n",
              "      <td>4_1</td>\n",
              "      <td>0.053386</td>\n",
              "      <td>0.044935</td>\n",
              "      <td>0.053164</td>\n",
              "      <td>0.046879</td>\n",
              "      <td>0.042424</td>\n",
              "      <td>0.065351</td>\n",
              "      <td>0.063011</td>\n",
              "      <td>0.014777</td>\n",
              "      <td>0.036836</td>\n",
              "      <td>0.042851</td>\n",
              "      <td>0.013724</td>\n",
              "      <td>0.063942</td>\n",
              "    </tr>\n",
              "    <tr>\n",
              "      <th>10</th>\n",
              "      <td>tymbark klasyczny E190127</td>\n",
              "      <td>4</td>\n",
              "      <td>3</td>\n",
              "      <td>2</td>\n",
              "      <td>4_2</td>\n",
              "      <td>0.041351</td>\n",
              "      <td>0.043190</td>\n",
              "      <td>0.053828</td>\n",
              "      <td>0.048187</td>\n",
              "      <td>0.040211</td>\n",
              "      <td>0.066519</td>\n",
              "      <td>0.066836</td>\n",
              "      <td>0.015080</td>\n",
              "      <td>0.037148</td>\n",
              "      <td>0.043711</td>\n",
              "      <td>0.013590</td>\n",
              "      <td>0.063942</td>\n",
              "    </tr>\n",
              "    <tr>\n",
              "      <th>11</th>\n",
              "      <td>tymbark klasyczny E190127</td>\n",
              "      <td>4</td>\n",
              "      <td>3</td>\n",
              "      <td>3</td>\n",
              "      <td>4_3</td>\n",
              "      <td>0.038825</td>\n",
              "      <td>0.041900</td>\n",
              "      <td>0.053825</td>\n",
              "      <td>0.048316</td>\n",
              "      <td>0.040309</td>\n",
              "      <td>0.069414</td>\n",
              "      <td>0.063245</td>\n",
              "      <td>0.013951</td>\n",
              "      <td>0.036055</td>\n",
              "      <td>0.044571</td>\n",
              "      <td>0.014833</td>\n",
              "      <td>0.063942</td>\n",
              "    </tr>\n",
              "    <tr>\n",
              "      <th>12</th>\n",
              "      <td>Tymbark szkło pomidor pikantny</td>\n",
              "      <td>5</td>\n",
              "      <td>3</td>\n",
              "      <td>1</td>\n",
              "      <td>5_1</td>\n",
              "      <td>0.054883</td>\n",
              "      <td>0.044251</td>\n",
              "      <td>0.054797</td>\n",
              "      <td>0.047023</td>\n",
              "      <td>0.043121</td>\n",
              "      <td>0.068626</td>\n",
              "      <td>0.064989</td>\n",
              "      <td>0.016425</td>\n",
              "      <td>0.034016</td>\n",
              "      <td>0.039013</td>\n",
              "      <td>0.015715</td>\n",
              "      <td>0.063942</td>\n",
              "    </tr>\n",
              "    <tr>\n",
              "      <th>13</th>\n",
              "      <td>Tymbark szkło pomidor pikantny</td>\n",
              "      <td>5</td>\n",
              "      <td>3</td>\n",
              "      <td>2</td>\n",
              "      <td>5_2</td>\n",
              "      <td>0.040097</td>\n",
              "      <td>0.042657</td>\n",
              "      <td>0.054862</td>\n",
              "      <td>0.048225</td>\n",
              "      <td>0.040695</td>\n",
              "      <td>0.067383</td>\n",
              "      <td>0.061229</td>\n",
              "      <td>0.016887</td>\n",
              "      <td>0.035352</td>\n",
              "      <td>0.040195</td>\n",
              "      <td>0.015256</td>\n",
              "      <td>0.063942</td>\n",
              "    </tr>\n",
              "    <tr>\n",
              "      <th>14</th>\n",
              "      <td>Tymbark szkło pomidor pikantny</td>\n",
              "      <td>5</td>\n",
              "      <td>3</td>\n",
              "      <td>3</td>\n",
              "      <td>5_3</td>\n",
              "      <td>0.038249</td>\n",
              "      <td>0.041282</td>\n",
              "      <td>0.055070</td>\n",
              "      <td>0.048663</td>\n",
              "      <td>0.040591</td>\n",
              "      <td>0.068434</td>\n",
              "      <td>0.063220</td>\n",
              "      <td>0.015780</td>\n",
              "      <td>0.036055</td>\n",
              "      <td>0.041130</td>\n",
              "      <td>0.014795</td>\n",
              "      <td>0.063942</td>\n",
              "    </tr>\n",
              "    <tr>\n",
              "      <th>15</th>\n",
              "      <td>tymbark klasyczny E190147</td>\n",
              "      <td>6</td>\n",
              "      <td>3</td>\n",
              "      <td>1</td>\n",
              "      <td>6_1</td>\n",
              "      <td>0.039316</td>\n",
              "      <td>0.043079</td>\n",
              "      <td>0.053585</td>\n",
              "      <td>0.044266</td>\n",
              "      <td>0.042628</td>\n",
              "      <td>0.066402</td>\n",
              "      <td>0.063406</td>\n",
              "      <td>0.016700</td>\n",
              "      <td>0.034180</td>\n",
              "      <td>0.041400</td>\n",
              "      <td>0.014170</td>\n",
              "      <td>0.063942</td>\n",
              "    </tr>\n",
              "    <tr>\n",
              "      <th>16</th>\n",
              "      <td>tymbark klasyczny E190147</td>\n",
              "      <td>6</td>\n",
              "      <td>3</td>\n",
              "      <td>2</td>\n",
              "      <td>6_2</td>\n",
              "      <td>0.041957</td>\n",
              "      <td>0.041656</td>\n",
              "      <td>0.053547</td>\n",
              "      <td>0.044820</td>\n",
              "      <td>0.042902</td>\n",
              "      <td>0.066524</td>\n",
              "      <td>0.065493</td>\n",
              "      <td>0.016650</td>\n",
              "      <td>0.033399</td>\n",
              "      <td>0.041368</td>\n",
              "      <td>0.012622</td>\n",
              "      <td>0.063942</td>\n",
              "    </tr>\n",
              "    <tr>\n",
              "      <th>17</th>\n",
              "      <td>tymbark klasyczny E190147</td>\n",
              "      <td>6</td>\n",
              "      <td>3</td>\n",
              "      <td>3</td>\n",
              "      <td>6_3</td>\n",
              "      <td>0.037537</td>\n",
              "      <td>0.039954</td>\n",
              "      <td>0.051972</td>\n",
              "      <td>0.044671</td>\n",
              "      <td>0.041838</td>\n",
              "      <td>0.069333</td>\n",
              "      <td>0.063653</td>\n",
              "      <td>0.016422</td>\n",
              "      <td>0.034925</td>\n",
              "      <td>0.042345</td>\n",
              "      <td>0.011995</td>\n",
              "      <td>0.063942</td>\n",
              "    </tr>\n",
              "    <tr>\n",
              "      <th>18</th>\n",
              "      <td>hortex pomidor</td>\n",
              "      <td>7</td>\n",
              "      <td>3</td>\n",
              "      <td>1</td>\n",
              "      <td>7_1</td>\n",
              "      <td>0.036552</td>\n",
              "      <td>0.040631</td>\n",
              "      <td>0.055269</td>\n",
              "      <td>0.046352</td>\n",
              "      <td>0.040488</td>\n",
              "      <td>0.072227</td>\n",
              "      <td>0.061402</td>\n",
              "      <td>0.012413</td>\n",
              "      <td>0.036992</td>\n",
              "      <td>0.041632</td>\n",
              "      <td>0.012806</td>\n",
              "      <td>0.061384</td>\n",
              "    </tr>\n",
              "    <tr>\n",
              "      <th>19</th>\n",
              "      <td>hortex pomidor</td>\n",
              "      <td>7</td>\n",
              "      <td>3</td>\n",
              "      <td>2</td>\n",
              "      <td>7_2</td>\n",
              "      <td>0.039687</td>\n",
              "      <td>0.039817</td>\n",
              "      <td>0.052869</td>\n",
              "      <td>0.047773</td>\n",
              "      <td>0.040196</td>\n",
              "      <td>0.074571</td>\n",
              "      <td>0.062071</td>\n",
              "      <td>0.011221</td>\n",
              "      <td>0.040765</td>\n",
              "      <td>0.045188</td>\n",
              "      <td>0.013994</td>\n",
              "      <td>0.061384</td>\n",
              "    </tr>\n",
              "    <tr>\n",
              "      <th>20</th>\n",
              "      <td>hortex pomidor</td>\n",
              "      <td>7</td>\n",
              "      <td>3</td>\n",
              "      <td>3</td>\n",
              "      <td>7_3</td>\n",
              "      <td>0.037595</td>\n",
              "      <td>0.038110</td>\n",
              "      <td>0.053268</td>\n",
              "      <td>0.048437</td>\n",
              "      <td>0.040266</td>\n",
              "      <td>0.067908</td>\n",
              "      <td>0.064090</td>\n",
              "      <td>0.011712</td>\n",
              "      <td>0.040430</td>\n",
              "      <td>0.044873</td>\n",
              "      <td>0.014805</td>\n",
              "      <td>0.061384</td>\n",
              "    </tr>\n",
              "    <tr>\n",
              "      <th>21</th>\n",
              "      <td>passata łowicz przecier pomidorowy</td>\n",
              "      <td>8</td>\n",
              "      <td>4</td>\n",
              "      <td>1</td>\n",
              "      <td>8_1</td>\n",
              "      <td>0.048771</td>\n",
              "      <td>0.053845</td>\n",
              "      <td>0.064308</td>\n",
              "      <td>0.052970</td>\n",
              "      <td>0.048336</td>\n",
              "      <td>0.069011</td>\n",
              "      <td>0.062461</td>\n",
              "      <td>0.024633</td>\n",
              "      <td>0.041612</td>\n",
              "      <td>0.043409</td>\n",
              "      <td>0.021201</td>\n",
              "      <td>0.076730</td>\n",
              "    </tr>\n",
              "    <tr>\n",
              "      <th>22</th>\n",
              "      <td>passata łowicz przecier pomidorowy</td>\n",
              "      <td>8</td>\n",
              "      <td>4</td>\n",
              "      <td>2</td>\n",
              "      <td>8_2</td>\n",
              "      <td>0.049422</td>\n",
              "      <td>0.050854</td>\n",
              "      <td>0.064601</td>\n",
              "      <td>0.052680</td>\n",
              "      <td>0.049122</td>\n",
              "      <td>0.081962</td>\n",
              "      <td>0.062938</td>\n",
              "      <td>0.025175</td>\n",
              "      <td>0.043318</td>\n",
              "      <td>0.042290</td>\n",
              "      <td>0.020238</td>\n",
              "      <td>0.076730</td>\n",
              "    </tr>\n",
              "    <tr>\n",
              "      <th>23</th>\n",
              "      <td>passata łowicz przecier pomidorowy</td>\n",
              "      <td>8</td>\n",
              "      <td>4</td>\n",
              "      <td>3</td>\n",
              "      <td>8_3</td>\n",
              "      <td>0.047215</td>\n",
              "      <td>0.047829</td>\n",
              "      <td>0.062416</td>\n",
              "      <td>0.053857</td>\n",
              "      <td>0.049483</td>\n",
              "      <td>0.080430</td>\n",
              "      <td>0.071080</td>\n",
              "      <td>0.019712</td>\n",
              "      <td>0.044415</td>\n",
              "      <td>0.040692</td>\n",
              "      <td>0.019712</td>\n",
              "      <td>0.076730</td>\n",
              "    </tr>\n",
              "    <tr>\n",
              "      <th>24</th>\n",
              "      <td>Tymbark karton sok bananowy</td>\n",
              "      <td>9</td>\n",
              "      <td>5</td>\n",
              "      <td>1</td>\n",
              "      <td>9_1</td>\n",
              "      <td>0.028053</td>\n",
              "      <td>0.032715</td>\n",
              "      <td>0.052373</td>\n",
              "      <td>0.036663</td>\n",
              "      <td>0.031211</td>\n",
              "      <td>0.053663</td>\n",
              "      <td>0.052773</td>\n",
              "      <td>-0.012357</td>\n",
              "      <td>0.048008</td>\n",
              "      <td>0.050165</td>\n",
              "      <td>-0.014164</td>\n",
              "      <td>0.038365</td>\n",
              "    </tr>\n",
              "    <tr>\n",
              "      <th>25</th>\n",
              "      <td>Tymbark karton sok bananowy</td>\n",
              "      <td>9</td>\n",
              "      <td>5</td>\n",
              "      <td>2</td>\n",
              "      <td>9_2</td>\n",
              "      <td>0.030175</td>\n",
              "      <td>0.032477</td>\n",
              "      <td>0.047479</td>\n",
              "      <td>0.037398</td>\n",
              "      <td>0.030450</td>\n",
              "      <td>0.052383</td>\n",
              "      <td>0.051670</td>\n",
              "      <td>-0.012324</td>\n",
              "      <td>0.043540</td>\n",
              "      <td>0.051446</td>\n",
              "      <td>-0.013570</td>\n",
              "      <td>0.038365</td>\n",
              "    </tr>\n",
              "    <tr>\n",
              "      <th>26</th>\n",
              "      <td>Tymbark karton sok bananowy</td>\n",
              "      <td>9</td>\n",
              "      <td>5</td>\n",
              "      <td>3</td>\n",
              "      <td>9_3</td>\n",
              "      <td>0.027282</td>\n",
              "      <td>0.030347</td>\n",
              "      <td>0.045888</td>\n",
              "      <td>0.037912</td>\n",
              "      <td>0.031428</td>\n",
              "      <td>0.052995</td>\n",
              "      <td>0.050820</td>\n",
              "      <td>-0.012511</td>\n",
              "      <td>0.042993</td>\n",
              "      <td>0.050430</td>\n",
              "      <td>-0.014467</td>\n",
              "      <td>0.038365</td>\n",
              "    </tr>\n",
              "    <tr>\n",
              "      <th>27</th>\n",
              "      <td>muszynianka</td>\n",
              "      <td>10</td>\n",
              "      <td>6</td>\n",
              "      <td>1</td>\n",
              "      <td>10_1</td>\n",
              "      <td>-0.059893</td>\n",
              "      <td>-0.047454</td>\n",
              "      <td>-0.052169</td>\n",
              "      <td>-0.074505</td>\n",
              "      <td>-0.077744</td>\n",
              "      <td>-0.035296</td>\n",
              "      <td>-0.034334</td>\n",
              "      <td>-0.109956</td>\n",
              "      <td>0.136589</td>\n",
              "      <td>0.130944</td>\n",
              "      <td>-0.125102</td>\n",
              "      <td>0.000192</td>\n",
              "    </tr>\n",
              "    <tr>\n",
              "      <th>28</th>\n",
              "      <td>muszynianka</td>\n",
              "      <td>10</td>\n",
              "      <td>6</td>\n",
              "      <td>2</td>\n",
              "      <td>10_2</td>\n",
              "      <td>-0.069765</td>\n",
              "      <td>-0.047380</td>\n",
              "      <td>-0.049276</td>\n",
              "      <td>-0.073487</td>\n",
              "      <td>-0.079662</td>\n",
              "      <td>-0.040850</td>\n",
              "      <td>-0.042846</td>\n",
              "      <td>-0.115690</td>\n",
              "      <td>0.138222</td>\n",
              "      <td>0.122305</td>\n",
              "      <td>-0.114321</td>\n",
              "      <td>0.000192</td>\n",
              "    </tr>\n",
              "    <tr>\n",
              "      <th>29</th>\n",
              "      <td>muszynianka</td>\n",
              "      <td>10</td>\n",
              "      <td>6</td>\n",
              "      <td>3</td>\n",
              "      <td>10_3</td>\n",
              "      <td>-0.073554</td>\n",
              "      <td>-0.046703</td>\n",
              "      <td>-0.047050</td>\n",
              "      <td>-0.072766</td>\n",
              "      <td>-0.080354</td>\n",
              "      <td>-0.040697</td>\n",
              "      <td>-0.044180</td>\n",
              "      <td>-0.116920</td>\n",
              "      <td>0.138932</td>\n",
              "      <td>0.128205</td>\n",
              "      <td>-0.124500</td>\n",
              "      <td>0.000192</td>\n",
              "    </tr>\n",
              "    <tr>\n",
              "      <th>30</th>\n",
              "      <td>staropolanka</td>\n",
              "      <td>11</td>\n",
              "      <td>6</td>\n",
              "      <td>1</td>\n",
              "      <td>11_1</td>\n",
              "      <td>-0.042186</td>\n",
              "      <td>-0.031902</td>\n",
              "      <td>-0.029096</td>\n",
              "      <td>-0.032917</td>\n",
              "      <td>-0.034096</td>\n",
              "      <td>-0.030581</td>\n",
              "      <td>-0.030586</td>\n",
              "      <td>-0.087567</td>\n",
              "      <td>0.144349</td>\n",
              "      <td>0.162539</td>\n",
              "      <td>-0.098751</td>\n",
              "      <td>0.001159</td>\n",
              "    </tr>\n",
              "    <tr>\n",
              "      <th>31</th>\n",
              "      <td>staropolanka</td>\n",
              "      <td>11</td>\n",
              "      <td>6</td>\n",
              "      <td>2</td>\n",
              "      <td>11_2</td>\n",
              "      <td>-0.046509</td>\n",
              "      <td>-0.029825</td>\n",
              "      <td>-0.024401</td>\n",
              "      <td>-0.032285</td>\n",
              "      <td>-0.035054</td>\n",
              "      <td>-0.030039</td>\n",
              "      <td>-0.033497</td>\n",
              "      <td>-0.086788</td>\n",
              "      <td>0.144140</td>\n",
              "      <td>0.134258</td>\n",
              "      <td>-0.098615</td>\n",
              "      <td>0.001159</td>\n",
              "    </tr>\n",
              "    <tr>\n",
              "      <th>32</th>\n",
              "      <td>staropolanka</td>\n",
              "      <td>11</td>\n",
              "      <td>6</td>\n",
              "      <td>3</td>\n",
              "      <td>11_3</td>\n",
              "      <td>-0.049163</td>\n",
              "      <td>-0.027255</td>\n",
              "      <td>-0.023209</td>\n",
              "      <td>-0.031977</td>\n",
              "      <td>-0.037345</td>\n",
              "      <td>-0.031926</td>\n",
              "      <td>-0.034336</td>\n",
              "      <td>-0.088273</td>\n",
              "      <td>0.144193</td>\n",
              "      <td>0.140821</td>\n",
              "      <td>-0.098683</td>\n",
              "      <td>0.001159</td>\n",
              "    </tr>\n",
              "    <tr>\n",
              "      <th>33</th>\n",
              "      <td>rodowita</td>\n",
              "      <td>12</td>\n",
              "      <td>6</td>\n",
              "      <td>1</td>\n",
              "      <td>12_1</td>\n",
              "      <td>-0.102683</td>\n",
              "      <td>-0.076903</td>\n",
              "      <td>-0.063741</td>\n",
              "      <td>-0.084296</td>\n",
              "      <td>-0.078338</td>\n",
              "      <td>-0.056932</td>\n",
              "      <td>-0.030117</td>\n",
              "      <td>-0.117041</td>\n",
              "      <td>0.162613</td>\n",
              "      <td>0.141070</td>\n",
              "      <td>-0.123785</td>\n",
              "      <td>0.000179</td>\n",
              "    </tr>\n",
              "    <tr>\n",
              "      <th>34</th>\n",
              "      <td>rodowita</td>\n",
              "      <td>12</td>\n",
              "      <td>6</td>\n",
              "      <td>2</td>\n",
              "      <td>12_2</td>\n",
              "      <td>-0.096103</td>\n",
              "      <td>-0.073915</td>\n",
              "      <td>-0.066128</td>\n",
              "      <td>-0.077940</td>\n",
              "      <td>-0.081720</td>\n",
              "      <td>-0.047411</td>\n",
              "      <td>-0.061914</td>\n",
              "      <td>-0.120397</td>\n",
              "      <td>0.162512</td>\n",
              "      <td>0.149805</td>\n",
              "      <td>-0.126532</td>\n",
              "      <td>0.000179</td>\n",
              "    </tr>\n",
              "    <tr>\n",
              "      <th>35</th>\n",
              "      <td>rodowita</td>\n",
              "      <td>12</td>\n",
              "      <td>6</td>\n",
              "      <td>3</td>\n",
              "      <td>12_3</td>\n",
              "      <td>-0.094247</td>\n",
              "      <td>-0.067529</td>\n",
              "      <td>-0.072166</td>\n",
              "      <td>-0.076617</td>\n",
              "      <td>-0.083341</td>\n",
              "      <td>-0.054573</td>\n",
              "      <td>-0.062539</td>\n",
              "      <td>-0.122953</td>\n",
              "      <td>0.162268</td>\n",
              "      <td>0.150274</td>\n",
              "      <td>-0.125814</td>\n",
              "      <td>0.000179</td>\n",
              "    </tr>\n",
              "    <tr>\n",
              "      <th>36</th>\n",
              "      <td>ZiNIQ+ Elektrolity</td>\n",
              "      <td>13</td>\n",
              "      <td>7</td>\n",
              "      <td>1</td>\n",
              "      <td>13_1</td>\n",
              "      <td>0.008381</td>\n",
              "      <td>0.019248</td>\n",
              "      <td>0.025889</td>\n",
              "      <td>0.009202</td>\n",
              "      <td>0.007637</td>\n",
              "      <td>0.043998</td>\n",
              "      <td>0.045646</td>\n",
              "      <td>-0.045883</td>\n",
              "      <td>0.059649</td>\n",
              "      <td>0.072151</td>\n",
              "      <td>-0.046189</td>\n",
              "      <td>0.012788</td>\n",
              "    </tr>\n",
              "    <tr>\n",
              "      <th>37</th>\n",
              "      <td>ZiNIQ+ Elektrolity</td>\n",
              "      <td>13</td>\n",
              "      <td>7</td>\n",
              "      <td>2</td>\n",
              "      <td>13_2</td>\n",
              "      <td>0.003885</td>\n",
              "      <td>0.019113</td>\n",
              "      <td>0.022761</td>\n",
              "      <td>0.010616</td>\n",
              "      <td>0.007773</td>\n",
              "      <td>0.036771</td>\n",
              "      <td>0.038454</td>\n",
              "      <td>-0.044427</td>\n",
              "      <td>0.057071</td>\n",
              "      <td>0.068537</td>\n",
              "      <td>-0.047526</td>\n",
              "      <td>0.012788</td>\n",
              "    </tr>\n",
              "    <tr>\n",
              "      <th>38</th>\n",
              "      <td>ZiNIQ+ Elektrolity</td>\n",
              "      <td>13</td>\n",
              "      <td>7</td>\n",
              "      <td>3</td>\n",
              "      <td>13_3</td>\n",
              "      <td>0.003227</td>\n",
              "      <td>0.017188</td>\n",
              "      <td>0.020979</td>\n",
              "      <td>0.010158</td>\n",
              "      <td>0.007235</td>\n",
              "      <td>0.034883</td>\n",
              "      <td>0.033399</td>\n",
              "      <td>-0.044764</td>\n",
              "      <td>0.056211</td>\n",
              "      <td>0.068946</td>\n",
              "      <td>-0.047262</td>\n",
              "      <td>0.012788</td>\n",
              "    </tr>\n",
              "    <tr>\n",
              "      <th>39</th>\n",
              "      <td>cytrynian potasu sup</td>\n",
              "      <td>14</td>\n",
              "      <td>7</td>\n",
              "      <td>1</td>\n",
              "      <td>14_1</td>\n",
              "      <td>0.028837</td>\n",
              "      <td>0.032618</td>\n",
              "      <td>0.046262</td>\n",
              "      <td>0.038444</td>\n",
              "      <td>0.010894</td>\n",
              "      <td>0.045742</td>\n",
              "      <td>0.048550</td>\n",
              "      <td>-0.026108</td>\n",
              "      <td>0.097570</td>\n",
              "      <td>0.093175</td>\n",
              "      <td>-0.025657</td>\n",
              "      <td>0.025321</td>\n",
              "    </tr>\n",
              "    <tr>\n",
              "      <th>40</th>\n",
              "      <td>cytrynian potasu sup</td>\n",
              "      <td>14</td>\n",
              "      <td>7</td>\n",
              "      <td>2</td>\n",
              "      <td>14_2</td>\n",
              "      <td>0.022206</td>\n",
              "      <td>0.031747</td>\n",
              "      <td>0.037822</td>\n",
              "      <td>0.038751</td>\n",
              "      <td>0.030899</td>\n",
              "      <td>0.044319</td>\n",
              "      <td>0.044956</td>\n",
              "      <td>-0.024906</td>\n",
              "      <td>0.091914</td>\n",
              "      <td>0.091740</td>\n",
              "      <td>-0.026544</td>\n",
              "      <td>0.025321</td>\n",
              "    </tr>\n",
              "    <tr>\n",
              "      <th>41</th>\n",
              "      <td>cytrynian potasu sup</td>\n",
              "      <td>14</td>\n",
              "      <td>7</td>\n",
              "      <td>3</td>\n",
              "      <td>14_3</td>\n",
              "      <td>0.019711</td>\n",
              "      <td>0.030028</td>\n",
              "      <td>0.034734</td>\n",
              "      <td>0.037335</td>\n",
              "      <td>0.022231</td>\n",
              "      <td>0.042618</td>\n",
              "      <td>0.041783</td>\n",
              "      <td>-0.024475</td>\n",
              "      <td>0.091889</td>\n",
              "      <td>0.093008</td>\n",
              "      <td>-0.021312</td>\n",
              "      <td>0.025321</td>\n",
              "    </tr>\n",
              "    <tr>\n",
              "      <th>42</th>\n",
              "      <td>tarczyn sól morska E190133</td>\n",
              "      <td>15</td>\n",
              "      <td>3</td>\n",
              "      <td>1</td>\n",
              "      <td>15_1</td>\n",
              "      <td>0.042070</td>\n",
              "      <td>0.042113</td>\n",
              "      <td>0.051866</td>\n",
              "      <td>0.045422</td>\n",
              "      <td>0.040931</td>\n",
              "      <td>0.058476</td>\n",
              "      <td>0.060171</td>\n",
              "      <td>0.013408</td>\n",
              "      <td>0.032731</td>\n",
              "      <td>0.039815</td>\n",
              "      <td>0.012864</td>\n",
              "      <td>0.063942</td>\n",
              "    </tr>\n",
              "    <tr>\n",
              "      <th>43</th>\n",
              "      <td>tarczyn sól morska E190133</td>\n",
              "      <td>15</td>\n",
              "      <td>3</td>\n",
              "      <td>2</td>\n",
              "      <td>15_2</td>\n",
              "      <td>0.041018</td>\n",
              "      <td>0.040417</td>\n",
              "      <td>0.051625</td>\n",
              "      <td>0.045750</td>\n",
              "      <td>0.041017</td>\n",
              "      <td>0.068779</td>\n",
              "      <td>0.062172</td>\n",
              "      <td>0.014532</td>\n",
              "      <td>0.035352</td>\n",
              "      <td>0.042033</td>\n",
              "      <td>0.012483</td>\n",
              "      <td>0.063942</td>\n",
              "    </tr>\n",
              "    <tr>\n",
              "      <th>44</th>\n",
              "      <td>tarczyn sól morska E190133</td>\n",
              "      <td>15</td>\n",
              "      <td>3</td>\n",
              "      <td>3</td>\n",
              "      <td>15_3</td>\n",
              "      <td>0.036582</td>\n",
              "      <td>0.040293</td>\n",
              "      <td>0.052644</td>\n",
              "      <td>0.046615</td>\n",
              "      <td>0.039203</td>\n",
              "      <td>0.069490</td>\n",
              "      <td>0.062675</td>\n",
              "      <td>0.012204</td>\n",
              "      <td>0.036524</td>\n",
              "      <td>0.042922</td>\n",
              "      <td>0.012713</td>\n",
              "      <td>0.063942</td>\n",
              "    </tr>\n",
              "    <tr>\n",
              "      <th>45</th>\n",
              "      <td>tarczyn sól morska E190118</td>\n",
              "      <td>16</td>\n",
              "      <td>3</td>\n",
              "      <td>1</td>\n",
              "      <td>16_1</td>\n",
              "      <td>0.038469</td>\n",
              "      <td>0.041785</td>\n",
              "      <td>0.054324</td>\n",
              "      <td>0.045435</td>\n",
              "      <td>0.042628</td>\n",
              "      <td>0.071819</td>\n",
              "      <td>0.070899</td>\n",
              "      <td>0.012763</td>\n",
              "      <td>0.034704</td>\n",
              "      <td>0.041438</td>\n",
              "      <td>0.013154</td>\n",
              "      <td>0.063942</td>\n",
              "    </tr>\n",
              "    <tr>\n",
              "      <th>46</th>\n",
              "      <td>tarczyn sól morska E190118</td>\n",
              "      <td>16</td>\n",
              "      <td>3</td>\n",
              "      <td>2</td>\n",
              "      <td>16_2</td>\n",
              "      <td>0.038138</td>\n",
              "      <td>0.039630</td>\n",
              "      <td>0.053064</td>\n",
              "      <td>0.046002</td>\n",
              "      <td>0.042902</td>\n",
              "      <td>0.074162</td>\n",
              "      <td>0.071367</td>\n",
              "      <td>0.013870</td>\n",
              "      <td>0.036050</td>\n",
              "      <td>0.041678</td>\n",
              "      <td>0.012738</td>\n",
              "      <td>0.063942</td>\n",
              "    </tr>\n",
              "    <tr>\n",
              "      <th>47</th>\n",
              "      <td>tarczyn sól morska E190118</td>\n",
              "      <td>16</td>\n",
              "      <td>3</td>\n",
              "      <td>3</td>\n",
              "      <td>16_3</td>\n",
              "      <td>0.040825</td>\n",
              "      <td>0.038302</td>\n",
              "      <td>0.051657</td>\n",
              "      <td>0.045564</td>\n",
              "      <td>0.041838</td>\n",
              "      <td>0.072146</td>\n",
              "      <td>0.064497</td>\n",
              "      <td>0.013865</td>\n",
              "      <td>0.036446</td>\n",
              "      <td>0.042540</td>\n",
              "      <td>0.012377</td>\n",
              "      <td>0.063942</td>\n",
              "    </tr>\n",
              "  </tbody>\n",
              "</table>\n",
              "</div>\n",
              "      <button class=\"colab-df-convert\" onclick=\"convertToInteractive('df-16fd710e-0b82-4682-9412-85dd3d4c14be')\"\n",
              "              title=\"Convert this dataframe to an interactive table.\"\n",
              "              style=\"display:none;\">\n",
              "\n",
              "  <svg xmlns=\"http://www.w3.org/2000/svg\" height=\"24px\"viewBox=\"0 0 24 24\"\n",
              "       width=\"24px\">\n",
              "    <path d=\"M0 0h24v24H0V0z\" fill=\"none\"/>\n",
              "    <path d=\"M18.56 5.44l.94 2.06.94-2.06 2.06-.94-2.06-.94-.94-2.06-.94 2.06-2.06.94zm-11 1L8.5 8.5l.94-2.06 2.06-.94-2.06-.94L8.5 2.5l-.94 2.06-2.06.94zm10 10l.94 2.06.94-2.06 2.06-.94-2.06-.94-.94-2.06-.94 2.06-2.06.94z\"/><path d=\"M17.41 7.96l-1.37-1.37c-.4-.4-.92-.59-1.43-.59-.52 0-1.04.2-1.43.59L10.3 9.45l-7.72 7.72c-.78.78-.78 2.05 0 2.83L4 21.41c.39.39.9.59 1.41.59.51 0 1.02-.2 1.41-.59l7.78-7.78 2.81-2.81c.8-.78.8-2.07 0-2.86zM5.41 20L4 18.59l7.72-7.72 1.47 1.35L5.41 20z\"/>\n",
              "  </svg>\n",
              "      </button>\n",
              "\n",
              "\n",
              "\n",
              "    <div id=\"df-d4552cb5-5560-4a40-9df8-6a78bfcf4ff4\">\n",
              "      <button class=\"colab-df-quickchart\" onclick=\"quickchart('df-d4552cb5-5560-4a40-9df8-6a78bfcf4ff4')\"\n",
              "              title=\"Suggest charts.\"\n",
              "              style=\"display:none;\">\n",
              "\n",
              "<svg xmlns=\"http://www.w3.org/2000/svg\" height=\"24px\"viewBox=\"0 0 24 24\"\n",
              "     width=\"24px\">\n",
              "    <g>\n",
              "        <path d=\"M19 3H5c-1.1 0-2 .9-2 2v14c0 1.1.9 2 2 2h14c1.1 0 2-.9 2-2V5c0-1.1-.9-2-2-2zM9 17H7v-7h2v7zm4 0h-2V7h2v10zm4 0h-2v-4h2v4z\"/>\n",
              "    </g>\n",
              "</svg>\n",
              "      </button>\n",
              "    </div>\n",
              "\n",
              "<style>\n",
              "  .colab-df-quickchart {\n",
              "    background-color: #E8F0FE;\n",
              "    border: none;\n",
              "    border-radius: 50%;\n",
              "    cursor: pointer;\n",
              "    display: none;\n",
              "    fill: #1967D2;\n",
              "    height: 32px;\n",
              "    padding: 0 0 0 0;\n",
              "    width: 32px;\n",
              "  }\n",
              "\n",
              "  .colab-df-quickchart:hover {\n",
              "    background-color: #E2EBFA;\n",
              "    box-shadow: 0px 1px 2px rgba(60, 64, 67, 0.3), 0px 1px 3px 1px rgba(60, 64, 67, 0.15);\n",
              "    fill: #174EA6;\n",
              "  }\n",
              "\n",
              "  [theme=dark] .colab-df-quickchart {\n",
              "    background-color: #3B4455;\n",
              "    fill: #D2E3FC;\n",
              "  }\n",
              "\n",
              "  [theme=dark] .colab-df-quickchart:hover {\n",
              "    background-color: #434B5C;\n",
              "    box-shadow: 0px 1px 3px 1px rgba(0, 0, 0, 0.15);\n",
              "    filter: drop-shadow(0px 1px 2px rgba(0, 0, 0, 0.3));\n",
              "    fill: #FFFFFF;\n",
              "  }\n",
              "</style>\n",
              "\n",
              "    <script>\n",
              "      async function quickchart(key) {\n",
              "        const containerElement = document.querySelector('#' + key);\n",
              "        const charts = await google.colab.kernel.invokeFunction(\n",
              "            'suggestCharts', [key], {});\n",
              "      }\n",
              "    </script>\n",
              "\n",
              "      <script>\n",
              "\n",
              "function displayQuickchartButton(domScope) {\n",
              "  let quickchartButtonEl =\n",
              "    domScope.querySelector('#df-d4552cb5-5560-4a40-9df8-6a78bfcf4ff4 button.colab-df-quickchart');\n",
              "  quickchartButtonEl.style.display =\n",
              "    google.colab.kernel.accessAllowed ? 'block' : 'none';\n",
              "}\n",
              "\n",
              "        displayQuickchartButton(document);\n",
              "      </script>\n",
              "      <style>\n",
              "    .colab-df-container {\n",
              "      display:flex;\n",
              "      flex-wrap:wrap;\n",
              "      gap: 12px;\n",
              "    }\n",
              "\n",
              "    .colab-df-convert {\n",
              "      background-color: #E8F0FE;\n",
              "      border: none;\n",
              "      border-radius: 50%;\n",
              "      cursor: pointer;\n",
              "      display: none;\n",
              "      fill: #1967D2;\n",
              "      height: 32px;\n",
              "      padding: 0 0 0 0;\n",
              "      width: 32px;\n",
              "    }\n",
              "\n",
              "    .colab-df-convert:hover {\n",
              "      background-color: #E2EBFA;\n",
              "      box-shadow: 0px 1px 2px rgba(60, 64, 67, 0.3), 0px 1px 3px 1px rgba(60, 64, 67, 0.15);\n",
              "      fill: #174EA6;\n",
              "    }\n",
              "\n",
              "    [theme=dark] .colab-df-convert {\n",
              "      background-color: #3B4455;\n",
              "      fill: #D2E3FC;\n",
              "    }\n",
              "\n",
              "    [theme=dark] .colab-df-convert:hover {\n",
              "      background-color: #434B5C;\n",
              "      box-shadow: 0px 1px 3px 1px rgba(0, 0, 0, 0.15);\n",
              "      filter: drop-shadow(0px 1px 2px rgba(0, 0, 0, 0.3));\n",
              "      fill: #FFFFFF;\n",
              "    }\n",
              "  </style>\n",
              "\n",
              "      <script>\n",
              "        const buttonEl =\n",
              "          document.querySelector('#df-16fd710e-0b82-4682-9412-85dd3d4c14be button.colab-df-convert');\n",
              "        buttonEl.style.display =\n",
              "          google.colab.kernel.accessAllowed ? 'block' : 'none';\n",
              "\n",
              "        async function convertToInteractive(key) {\n",
              "          const element = document.querySelector('#df-16fd710e-0b82-4682-9412-85dd3d4c14be');\n",
              "          const dataTable =\n",
              "            await google.colab.kernel.invokeFunction('convertToInteractive',\n",
              "                                                     [key], {});\n",
              "          if (!dataTable) return;\n",
              "\n",
              "          const docLinkHtml = 'Like what you see? Visit the ' +\n",
              "            '<a target=\"_blank\" href=https://colab.research.google.com/notebooks/data_table.ipynb>data table notebook</a>'\n",
              "            + ' to learn more about interactive tables.';\n",
              "          element.innerHTML = '';\n",
              "          dataTable['output_type'] = 'display_data';\n",
              "          await google.colab.output.renderOutput(dataTable, element);\n",
              "          const docLink = document.createElement('div');\n",
              "          docLink.innerHTML = docLinkHtml;\n",
              "          element.appendChild(docLink);\n",
              "        }\n",
              "      </script>\n",
              "    </div>\n",
              "  </div>\n"
            ]
          },
          "metadata": {},
          "execution_count": 6
        }
      ]
    },
    {
      "cell_type": "code",
      "execution_count": 7,
      "metadata": {
        "colab": {
          "base_uri": "https://localhost:8080/",
          "height": 626
        },
        "id": "qjQn9BIWRSEW",
        "outputId": "f08d1426-334c-4d74-da3a-ad706edb187e"
      },
      "outputs": [
        {
          "output_type": "stream",
          "name": "stderr",
          "text": [
            "<ipython-input-7-3cf94f135b3d>:2: FutureWarning: The default value of numeric_only in DataFrame.corr is deprecated. In a future version, it will default to False. Select only valid columns or specify the value of numeric_only to silence this warning.\n",
            "  corr = df.corr()\n",
            "<ipython-input-7-3cf94f135b3d>:4: FutureWarning: this method is deprecated in favour of `Styler.format(precision=..)`\n",
            "  corr.style.background_gradient(cmap='coolwarm', axis=None).set_precision(2)\n"
          ]
        },
        {
          "output_type": "execute_result",
          "data": {
            "text/plain": [
              "<pandas.io.formats.style.Styler at 0x786c5c84b340>"
            ],
            "text/html": [
              "<style type=\"text/css\">\n",
              "#T_76681_row0_col0, #T_76681_row1_col1, #T_76681_row2_col2, #T_76681_row3_col3, #T_76681_row3_col4, #T_76681_row4_col3, #T_76681_row4_col4, #T_76681_row5_col5, #T_76681_row5_col6, #T_76681_row6_col5, #T_76681_row6_col6, #T_76681_row6_col7, #T_76681_row7_col6, #T_76681_row7_col7, #T_76681_row8_col8, #T_76681_row9_col9, #T_76681_row10_col10, #T_76681_row10_col13, #T_76681_row11_col11, #T_76681_row12_col12, #T_76681_row13_col10, #T_76681_row13_col13, #T_76681_row14_col14 {\n",
              "  background-color: #b40426;\n",
              "  color: #f1f1f1;\n",
              "}\n",
              "#T_76681_row0_col1, #T_76681_row1_col0 {\n",
              "  background-color: #eb7d62;\n",
              "  color: #f1f1f1;\n",
              "}\n",
              "#T_76681_row0_col2, #T_76681_row1_col2, #T_76681_row2_col0, #T_76681_row2_col1, #T_76681_row2_col7, #T_76681_row2_col12, #T_76681_row2_col13, #T_76681_row2_col14, #T_76681_row7_col2, #T_76681_row12_col2, #T_76681_row13_col2, #T_76681_row14_col2 {\n",
              "  background-color: #d7dce3;\n",
              "  color: #000000;\n",
              "}\n",
              "#T_76681_row0_col3, #T_76681_row0_col13, #T_76681_row3_col0, #T_76681_row13_col0 {\n",
              "  background-color: #97b8ff;\n",
              "  color: #000000;\n",
              "}\n",
              "#T_76681_row0_col4, #T_76681_row4_col0 {\n",
              "  background-color: #9bbcff;\n",
              "  color: #000000;\n",
              "}\n",
              "#T_76681_row0_col5, #T_76681_row0_col7, #T_76681_row5_col0, #T_76681_row7_col0 {\n",
              "  background-color: #a7c5fe;\n",
              "  color: #000000;\n",
              "}\n",
              "#T_76681_row0_col6, #T_76681_row6_col0 {\n",
              "  background-color: #a9c6fd;\n",
              "  color: #000000;\n",
              "}\n",
              "#T_76681_row0_col8, #T_76681_row8_col0 {\n",
              "  background-color: #9ebeff;\n",
              "  color: #000000;\n",
              "}\n",
              "#T_76681_row0_col9, #T_76681_row9_col0 {\n",
              "  background-color: #9fbfff;\n",
              "  color: #000000;\n",
              "}\n",
              "#T_76681_row0_col10, #T_76681_row10_col0 {\n",
              "  background-color: #96b7ff;\n",
              "  color: #000000;\n",
              "}\n",
              "#T_76681_row0_col11, #T_76681_row0_col12, #T_76681_row11_col0, #T_76681_row12_col0 {\n",
              "  background-color: #f6a586;\n",
              "  color: #000000;\n",
              "}\n",
              "#T_76681_row0_col14, #T_76681_row14_col0 {\n",
              "  background-color: #94b6ff;\n",
              "  color: #000000;\n",
              "}\n",
              "#T_76681_row1_col3, #T_76681_row3_col1 {\n",
              "  background-color: #6384eb;\n",
              "  color: #f1f1f1;\n",
              "}\n",
              "#T_76681_row1_col4, #T_76681_row4_col1 {\n",
              "  background-color: #688aef;\n",
              "  color: #f1f1f1;\n",
              "}\n",
              "#T_76681_row1_col5, #T_76681_row1_col6, #T_76681_row5_col1, #T_76681_row6_col1 {\n",
              "  background-color: #7093f3;\n",
              "  color: #f1f1f1;\n",
              "}\n",
              "#T_76681_row1_col7, #T_76681_row7_col1 {\n",
              "  background-color: #6b8df0;\n",
              "  color: #f1f1f1;\n",
              "}\n",
              "#T_76681_row1_col8, #T_76681_row8_col1 {\n",
              "  background-color: #6282ea;\n",
              "  color: #f1f1f1;\n",
              "}\n",
              "#T_76681_row1_col9, #T_76681_row9_col1 {\n",
              "  background-color: #6687ed;\n",
              "  color: #f1f1f1;\n",
              "}\n",
              "#T_76681_row1_col10, #T_76681_row10_col1 {\n",
              "  background-color: #5977e3;\n",
              "  color: #f1f1f1;\n",
              "}\n",
              "#T_76681_row1_col11, #T_76681_row1_col12, #T_76681_row11_col1, #T_76681_row12_col1 {\n",
              "  background-color: #e16751;\n",
              "  color: #f1f1f1;\n",
              "}\n",
              "#T_76681_row1_col13, #T_76681_row13_col1 {\n",
              "  background-color: #5a78e4;\n",
              "  color: #f1f1f1;\n",
              "}\n",
              "#T_76681_row1_col14, #T_76681_row6_col11, #T_76681_row11_col6, #T_76681_row14_col1 {\n",
              "  background-color: #4e68d8;\n",
              "  color: #f1f1f1;\n",
              "}\n",
              "#T_76681_row2_col3, #T_76681_row2_col9, #T_76681_row3_col2, #T_76681_row9_col2 {\n",
              "  background-color: #d2dbe8;\n",
              "  color: #000000;\n",
              "}\n",
              "#T_76681_row2_col4, #T_76681_row2_col5, #T_76681_row4_col2, #T_76681_row5_col2 {\n",
              "  background-color: #d5dbe5;\n",
              "  color: #000000;\n",
              "}\n",
              "#T_76681_row2_col6, #T_76681_row6_col2 {\n",
              "  background-color: #d9dce1;\n",
              "  color: #000000;\n",
              "}\n",
              "#T_76681_row2_col8, #T_76681_row2_col11, #T_76681_row8_col2, #T_76681_row11_col2 {\n",
              "  background-color: #d8dce2;\n",
              "  color: #000000;\n",
              "}\n",
              "#T_76681_row2_col10, #T_76681_row10_col2 {\n",
              "  background-color: #d6dce4;\n",
              "  color: #000000;\n",
              "}\n",
              "#T_76681_row3_col5, #T_76681_row3_col6, #T_76681_row3_col7, #T_76681_row4_col7, #T_76681_row5_col3, #T_76681_row5_col8, #T_76681_row6_col3, #T_76681_row7_col3, #T_76681_row7_col4, #T_76681_row7_col8, #T_76681_row8_col5, #T_76681_row8_col7, #T_76681_row8_col10, #T_76681_row9_col13, #T_76681_row10_col8, #T_76681_row13_col9 {\n",
              "  background-color: #b8122a;\n",
              "  color: #f1f1f1;\n",
              "}\n",
              "#T_76681_row3_col8, #T_76681_row3_col9, #T_76681_row4_col5, #T_76681_row4_col6, #T_76681_row4_col8, #T_76681_row4_col9, #T_76681_row5_col4, #T_76681_row6_col4, #T_76681_row8_col3, #T_76681_row8_col4, #T_76681_row8_col13, #T_76681_row9_col3, #T_76681_row9_col4, #T_76681_row13_col8 {\n",
              "  background-color: #b70d28;\n",
              "  color: #f1f1f1;\n",
              "}\n",
              "#T_76681_row3_col10, #T_76681_row3_col13, #T_76681_row4_col13, #T_76681_row5_col9, #T_76681_row6_col8, #T_76681_row7_col9, #T_76681_row8_col6, #T_76681_row9_col5, #T_76681_row9_col7, #T_76681_row9_col10, #T_76681_row10_col3, #T_76681_row10_col9, #T_76681_row13_col3, #T_76681_row13_col4 {\n",
              "  background-color: #ba162b;\n",
              "  color: #f1f1f1;\n",
              "}\n",
              "#T_76681_row3_col11, #T_76681_row11_col3 {\n",
              "  background-color: #3f53c6;\n",
              "  color: #f1f1f1;\n",
              "}\n",
              "#T_76681_row3_col12, #T_76681_row12_col3 {\n",
              "  background-color: #445acc;\n",
              "  color: #f1f1f1;\n",
              "}\n",
              "#T_76681_row3_col14, #T_76681_row14_col3 {\n",
              "  background-color: #cb3e38;\n",
              "  color: #f1f1f1;\n",
              "}\n",
              "#T_76681_row4_col10, #T_76681_row6_col9, #T_76681_row9_col6, #T_76681_row10_col4 {\n",
              "  background-color: #bb1b2c;\n",
              "  color: #f1f1f1;\n",
              "}\n",
              "#T_76681_row4_col11, #T_76681_row8_col12, #T_76681_row9_col12, #T_76681_row11_col4, #T_76681_row12_col8, #T_76681_row12_col9 {\n",
              "  background-color: #4055c8;\n",
              "  color: #f1f1f1;\n",
              "}\n",
              "#T_76681_row4_col12, #T_76681_row12_col4 {\n",
              "  background-color: #455cce;\n",
              "  color: #f1f1f1;\n",
              "}\n",
              "#T_76681_row4_col14, #T_76681_row5_col14, #T_76681_row6_col14, #T_76681_row14_col4, #T_76681_row14_col5, #T_76681_row14_col6 {\n",
              "  background-color: #cc403a;\n",
              "  color: #f1f1f1;\n",
              "}\n",
              "#T_76681_row5_col7, #T_76681_row7_col5, #T_76681_row8_col9, #T_76681_row9_col8, #T_76681_row11_col12, #T_76681_row12_col11 {\n",
              "  background-color: #b50927;\n",
              "  color: #f1f1f1;\n",
              "}\n",
              "#T_76681_row5_col10, #T_76681_row6_col10, #T_76681_row10_col5, #T_76681_row10_col6 {\n",
              "  background-color: #c0282f;\n",
              "  color: #f1f1f1;\n",
              "}\n",
              "#T_76681_row5_col11, #T_76681_row11_col5 {\n",
              "  background-color: #4c66d6;\n",
              "  color: #f1f1f1;\n",
              "}\n",
              "#T_76681_row5_col12, #T_76681_row7_col12, #T_76681_row12_col5, #T_76681_row12_col7 {\n",
              "  background-color: #506bda;\n",
              "  color: #f1f1f1;\n",
              "}\n",
              "#T_76681_row5_col13, #T_76681_row6_col13, #T_76681_row7_col10, #T_76681_row10_col7, #T_76681_row13_col5, #T_76681_row13_col6, #T_76681_row13_col14, #T_76681_row14_col13 {\n",
              "  background-color: #be242e;\n",
              "  color: #f1f1f1;\n",
              "}\n",
              "#T_76681_row6_col12, #T_76681_row12_col6 {\n",
              "  background-color: #536edd;\n",
              "  color: #f1f1f1;\n",
              "}\n",
              "#T_76681_row7_col11, #T_76681_row11_col7 {\n",
              "  background-color: #4b64d5;\n",
              "  color: #f1f1f1;\n",
              "}\n",
              "#T_76681_row7_col13, #T_76681_row10_col14, #T_76681_row13_col7, #T_76681_row14_col10 {\n",
              "  background-color: #bd1f2d;\n",
              "  color: #f1f1f1;\n",
              "}\n",
              "#T_76681_row7_col14, #T_76681_row9_col14, #T_76681_row14_col7, #T_76681_row14_col9 {\n",
              "  background-color: #ca3b37;\n",
              "  color: #f1f1f1;\n",
              "}\n",
              "#T_76681_row8_col11, #T_76681_row9_col11, #T_76681_row11_col8, #T_76681_row11_col9 {\n",
              "  background-color: #3d50c3;\n",
              "  color: #f1f1f1;\n",
              "}\n",
              "#T_76681_row8_col14, #T_76681_row14_col8 {\n",
              "  background-color: #c53334;\n",
              "  color: #f1f1f1;\n",
              "}\n",
              "#T_76681_row10_col11, #T_76681_row11_col10, #T_76681_row11_col13, #T_76681_row13_col11 {\n",
              "  background-color: #3b4cc0;\n",
              "  color: #f1f1f1;\n",
              "}\n",
              "#T_76681_row10_col12, #T_76681_row12_col10, #T_76681_row12_col13, #T_76681_row13_col12 {\n",
              "  background-color: #3c4ec2;\n",
              "  color: #f1f1f1;\n",
              "}\n",
              "#T_76681_row11_col14, #T_76681_row14_col11 {\n",
              "  background-color: #4a63d3;\n",
              "  color: #f1f1f1;\n",
              "}\n",
              "#T_76681_row12_col14, #T_76681_row14_col12 {\n",
              "  background-color: #485fd1;\n",
              "  color: #f1f1f1;\n",
              "}\n",
              "</style>\n",
              "<table id=\"T_76681\" class=\"dataframe\">\n",
              "  <thead>\n",
              "    <tr>\n",
              "      <th class=\"blank level0\" >&nbsp;</th>\n",
              "      <th id=\"T_76681_level0_col0\" class=\"col_heading level0 col0\" >Kod</th>\n",
              "      <th id=\"T_76681_level0_col1\" class=\"col_heading level0 col1\" >Rodzaj próbki</th>\n",
              "      <th id=\"T_76681_level0_col2\" class=\"col_heading level0 col2\" >Powtórzenie</th>\n",
              "      <th id=\"T_76681_level0_col3\" class=\"col_heading level0 col3\" >DB 5</th>\n",
              "      <th id=\"T_76681_level0_col4\" class=\"col_heading level0 col4\" >DB 4 </th>\n",
              "      <th id=\"T_76681_level0_col5\" class=\"col_heading level0 col5\" >V5</th>\n",
              "      <th id=\"T_76681_level0_col6\" class=\"col_heading level0 col6\" >V5_2?</th>\n",
              "      <th id=\"T_76681_level0_col7\" class=\"col_heading level0 col7\" >V1</th>\n",
              "      <th id=\"T_76681_level0_col8\" class=\"col_heading level0 col8\" >K+ 3</th>\n",
              "      <th id=\"T_76681_level0_col9\" class=\"col_heading level0 col9\" >K+ 5</th>\n",
              "      <th id=\"T_76681_level0_col10\" class=\"col_heading level0 col10\" >NH4+ 3</th>\n",
              "      <th id=\"T_76681_level0_col11\" class=\"col_heading level0 col11\" >A5-(Cl-)</th>\n",
              "      <th id=\"T_76681_level0_col12\" class=\"col_heading level0 col12\" >A-10(Cl-)</th>\n",
              "      <th id=\"T_76681_level0_col13\" class=\"col_heading level0 col13\" >NH4+ 2</th>\n",
              "      <th id=\"T_76681_level0_col14\" class=\"col_heading level0 col14\" >M</th>\n",
              "    </tr>\n",
              "  </thead>\n",
              "  <tbody>\n",
              "    <tr>\n",
              "      <th id=\"T_76681_level0_row0\" class=\"row_heading level0 row0\" >Kod</th>\n",
              "      <td id=\"T_76681_row0_col0\" class=\"data row0 col0\" >1.00</td>\n",
              "      <td id=\"T_76681_row0_col1\" class=\"data row0 col1\" >0.64</td>\n",
              "      <td id=\"T_76681_row0_col2\" class=\"data row0 col2\" >0.00</td>\n",
              "      <td id=\"T_76681_row0_col3\" class=\"data row0 col3\" >-0.39</td>\n",
              "      <td id=\"T_76681_row0_col4\" class=\"data row0 col4\" >-0.37</td>\n",
              "      <td id=\"T_76681_row0_col5\" class=\"data row0 col5\" >-0.30</td>\n",
              "      <td id=\"T_76681_row0_col6\" class=\"data row0 col6\" >-0.29</td>\n",
              "      <td id=\"T_76681_row0_col7\" class=\"data row0 col7\" >-0.30</td>\n",
              "      <td id=\"T_76681_row0_col8\" class=\"data row0 col8\" >-0.35</td>\n",
              "      <td id=\"T_76681_row0_col9\" class=\"data row0 col9\" >-0.34</td>\n",
              "      <td id=\"T_76681_row0_col10\" class=\"data row0 col10\" >-0.39</td>\n",
              "      <td id=\"T_76681_row0_col11\" class=\"data row0 col11\" >0.46</td>\n",
              "      <td id=\"T_76681_row0_col12\" class=\"data row0 col12\" >0.47</td>\n",
              "      <td id=\"T_76681_row0_col13\" class=\"data row0 col13\" >-0.38</td>\n",
              "      <td id=\"T_76681_row0_col14\" class=\"data row0 col14\" >-0.40</td>\n",
              "    </tr>\n",
              "    <tr>\n",
              "      <th id=\"T_76681_level0_row1\" class=\"row_heading level0 row1\" >Rodzaj próbki</th>\n",
              "      <td id=\"T_76681_row1_col0\" class=\"data row1 col0\" >0.64</td>\n",
              "      <td id=\"T_76681_row1_col1\" class=\"data row1 col1\" >1.00</td>\n",
              "      <td id=\"T_76681_row1_col2\" class=\"data row1 col2\" >0.00</td>\n",
              "      <td id=\"T_76681_row1_col3\" class=\"data row1 col3\" >-0.67</td>\n",
              "      <td id=\"T_76681_row1_col4\" class=\"data row1 col4\" >-0.64</td>\n",
              "      <td id=\"T_76681_row1_col5\" class=\"data row1 col5\" >-0.60</td>\n",
              "      <td id=\"T_76681_row1_col6\" class=\"data row1 col6\" >-0.60</td>\n",
              "      <td id=\"T_76681_row1_col7\" class=\"data row1 col7\" >-0.62</td>\n",
              "      <td id=\"T_76681_row1_col8\" class=\"data row1 col8\" >-0.68</td>\n",
              "      <td id=\"T_76681_row1_col9\" class=\"data row1 col9\" >-0.66</td>\n",
              "      <td id=\"T_76681_row1_col10\" class=\"data row1 col10\" >-0.73</td>\n",
              "      <td id=\"T_76681_row1_col11\" class=\"data row1 col11\" >0.73</td>\n",
              "      <td id=\"T_76681_row1_col12\" class=\"data row1 col12\" >0.74</td>\n",
              "      <td id=\"T_76681_row1_col13\" class=\"data row1 col13\" >-0.72</td>\n",
              "      <td id=\"T_76681_row1_col14\" class=\"data row1 col14\" >-0.80</td>\n",
              "    </tr>\n",
              "    <tr>\n",
              "      <th id=\"T_76681_level0_row2\" class=\"row_heading level0 row2\" >Powtórzenie</th>\n",
              "      <td id=\"T_76681_row2_col0\" class=\"data row2 col0\" >0.00</td>\n",
              "      <td id=\"T_76681_row2_col1\" class=\"data row2 col1\" >0.00</td>\n",
              "      <td id=\"T_76681_row2_col2\" class=\"data row2 col2\" >1.00</td>\n",
              "      <td id=\"T_76681_row2_col3\" class=\"data row2 col3\" >-0.04</td>\n",
              "      <td id=\"T_76681_row2_col4\" class=\"data row2 col4\" >-0.02</td>\n",
              "      <td id=\"T_76681_row2_col5\" class=\"data row2 col5\" >-0.02</td>\n",
              "      <td id=\"T_76681_row2_col6\" class=\"data row2 col6\" >0.01</td>\n",
              "      <td id=\"T_76681_row2_col7\" class=\"data row2 col7\" >-0.00</td>\n",
              "      <td id=\"T_76681_row2_col8\" class=\"data row2 col8\" >0.01</td>\n",
              "      <td id=\"T_76681_row2_col9\" class=\"data row2 col9\" >-0.04</td>\n",
              "      <td id=\"T_76681_row2_col10\" class=\"data row2 col10\" >-0.01</td>\n",
              "      <td id=\"T_76681_row2_col11\" class=\"data row2 col11\" >0.00</td>\n",
              "      <td id=\"T_76681_row2_col12\" class=\"data row2 col12\" >-0.00</td>\n",
              "      <td id=\"T_76681_row2_col13\" class=\"data row2 col13\" >-0.00</td>\n",
              "      <td id=\"T_76681_row2_col14\" class=\"data row2 col14\" >-0.00</td>\n",
              "    </tr>\n",
              "    <tr>\n",
              "      <th id=\"T_76681_level0_row3\" class=\"row_heading level0 row3\" >DB 5</th>\n",
              "      <td id=\"T_76681_row3_col0\" class=\"data row3 col0\" >-0.39</td>\n",
              "      <td id=\"T_76681_row3_col1\" class=\"data row3 col1\" >-0.67</td>\n",
              "      <td id=\"T_76681_row3_col2\" class=\"data row3 col2\" >-0.04</td>\n",
              "      <td id=\"T_76681_row3_col3\" class=\"data row3 col3\" >1.00</td>\n",
              "      <td id=\"T_76681_row3_col4\" class=\"data row3 col4\" >1.00</td>\n",
              "      <td id=\"T_76681_row3_col5\" class=\"data row3 col5\" >0.98</td>\n",
              "      <td id=\"T_76681_row3_col6\" class=\"data row3 col6\" >0.97</td>\n",
              "      <td id=\"T_76681_row3_col7\" class=\"data row3 col7\" >0.97</td>\n",
              "      <td id=\"T_76681_row3_col8\" class=\"data row3 col8\" >0.98</td>\n",
              "      <td id=\"T_76681_row3_col9\" class=\"data row3 col9\" >0.98</td>\n",
              "      <td id=\"T_76681_row3_col10\" class=\"data row3 col10\" >0.97</td>\n",
              "      <td id=\"T_76681_row3_col11\" class=\"data row3 col11\" >-0.89</td>\n",
              "      <td id=\"T_76681_row3_col12\" class=\"data row3 col12\" >-0.86</td>\n",
              "      <td id=\"T_76681_row3_col13\" class=\"data row3 col13\" >0.97</td>\n",
              "      <td id=\"T_76681_row3_col14\" class=\"data row3 col14\" >0.88</td>\n",
              "    </tr>\n",
              "    <tr>\n",
              "      <th id=\"T_76681_level0_row4\" class=\"row_heading level0 row4\" >DB 4 </th>\n",
              "      <td id=\"T_76681_row4_col0\" class=\"data row4 col0\" >-0.37</td>\n",
              "      <td id=\"T_76681_row4_col1\" class=\"data row4 col1\" >-0.64</td>\n",
              "      <td id=\"T_76681_row4_col2\" class=\"data row4 col2\" >-0.02</td>\n",
              "      <td id=\"T_76681_row4_col3\" class=\"data row4 col3\" >1.00</td>\n",
              "      <td id=\"T_76681_row4_col4\" class=\"data row4 col4\" >1.00</td>\n",
              "      <td id=\"T_76681_row4_col5\" class=\"data row4 col5\" >0.98</td>\n",
              "      <td id=\"T_76681_row4_col6\" class=\"data row4 col6\" >0.98</td>\n",
              "      <td id=\"T_76681_row4_col7\" class=\"data row4 col7\" >0.98</td>\n",
              "      <td id=\"T_76681_row4_col8\" class=\"data row4 col8\" >0.98</td>\n",
              "      <td id=\"T_76681_row4_col9\" class=\"data row4 col9\" >0.98</td>\n",
              "      <td id=\"T_76681_row4_col10\" class=\"data row4 col10\" >0.96</td>\n",
              "      <td id=\"T_76681_row4_col11\" class=\"data row4 col11\" >-0.88</td>\n",
              "      <td id=\"T_76681_row4_col12\" class=\"data row4 col12\" >-0.86</td>\n",
              "      <td id=\"T_76681_row4_col13\" class=\"data row4 col13\" >0.96</td>\n",
              "      <td id=\"T_76681_row4_col14\" class=\"data row4 col14\" >0.87</td>\n",
              "    </tr>\n",
              "    <tr>\n",
              "      <th id=\"T_76681_level0_row5\" class=\"row_heading level0 row5\" >V5</th>\n",
              "      <td id=\"T_76681_row5_col0\" class=\"data row5 col0\" >-0.30</td>\n",
              "      <td id=\"T_76681_row5_col1\" class=\"data row5 col1\" >-0.60</td>\n",
              "      <td id=\"T_76681_row5_col2\" class=\"data row5 col2\" >-0.02</td>\n",
              "      <td id=\"T_76681_row5_col3\" class=\"data row5 col3\" >0.98</td>\n",
              "      <td id=\"T_76681_row5_col4\" class=\"data row5 col4\" >0.98</td>\n",
              "      <td id=\"T_76681_row5_col5\" class=\"data row5 col5\" >1.00</td>\n",
              "      <td id=\"T_76681_row5_col6\" class=\"data row5 col6\" >0.99</td>\n",
              "      <td id=\"T_76681_row5_col7\" class=\"data row5 col7\" >0.99</td>\n",
              "      <td id=\"T_76681_row5_col8\" class=\"data row5 col8\" >0.97</td>\n",
              "      <td id=\"T_76681_row5_col9\" class=\"data row5 col9\" >0.97</td>\n",
              "      <td id=\"T_76681_row5_col10\" class=\"data row5 col10\" >0.94</td>\n",
              "      <td id=\"T_76681_row5_col11\" class=\"data row5 col11\" >-0.81</td>\n",
              "      <td id=\"T_76681_row5_col12\" class=\"data row5 col12\" >-0.78</td>\n",
              "      <td id=\"T_76681_row5_col13\" class=\"data row5 col13\" >0.94</td>\n",
              "      <td id=\"T_76681_row5_col14\" class=\"data row5 col14\" >0.87</td>\n",
              "    </tr>\n",
              "    <tr>\n",
              "      <th id=\"T_76681_level0_row6\" class=\"row_heading level0 row6\" >V5_2?</th>\n",
              "      <td id=\"T_76681_row6_col0\" class=\"data row6 col0\" >-0.29</td>\n",
              "      <td id=\"T_76681_row6_col1\" class=\"data row6 col1\" >-0.60</td>\n",
              "      <td id=\"T_76681_row6_col2\" class=\"data row6 col2\" >0.01</td>\n",
              "      <td id=\"T_76681_row6_col3\" class=\"data row6 col3\" >0.97</td>\n",
              "      <td id=\"T_76681_row6_col4\" class=\"data row6 col4\" >0.98</td>\n",
              "      <td id=\"T_76681_row6_col5\" class=\"data row6 col5\" >0.99</td>\n",
              "      <td id=\"T_76681_row6_col6\" class=\"data row6 col6\" >1.00</td>\n",
              "      <td id=\"T_76681_row6_col7\" class=\"data row6 col7\" >0.99</td>\n",
              "      <td id=\"T_76681_row6_col8\" class=\"data row6 col8\" >0.97</td>\n",
              "      <td id=\"T_76681_row6_col9\" class=\"data row6 col9\" >0.96</td>\n",
              "      <td id=\"T_76681_row6_col10\" class=\"data row6 col10\" >0.94</td>\n",
              "      <td id=\"T_76681_row6_col11\" class=\"data row6 col11\" >-0.80</td>\n",
              "      <td id=\"T_76681_row6_col12\" class=\"data row6 col12\" >-0.77</td>\n",
              "      <td id=\"T_76681_row6_col13\" class=\"data row6 col13\" >0.95</td>\n",
              "      <td id=\"T_76681_row6_col14\" class=\"data row6 col14\" >0.87</td>\n",
              "    </tr>\n",
              "    <tr>\n",
              "      <th id=\"T_76681_level0_row7\" class=\"row_heading level0 row7\" >V1</th>\n",
              "      <td id=\"T_76681_row7_col0\" class=\"data row7 col0\" >-0.30</td>\n",
              "      <td id=\"T_76681_row7_col1\" class=\"data row7 col1\" >-0.62</td>\n",
              "      <td id=\"T_76681_row7_col2\" class=\"data row7 col2\" >-0.00</td>\n",
              "      <td id=\"T_76681_row7_col3\" class=\"data row7 col3\" >0.97</td>\n",
              "      <td id=\"T_76681_row7_col4\" class=\"data row7 col4\" >0.98</td>\n",
              "      <td id=\"T_76681_row7_col5\" class=\"data row7 col5\" >0.99</td>\n",
              "      <td id=\"T_76681_row7_col6\" class=\"data row7 col6\" >0.99</td>\n",
              "      <td id=\"T_76681_row7_col7\" class=\"data row7 col7\" >1.00</td>\n",
              "      <td id=\"T_76681_row7_col8\" class=\"data row7 col8\" >0.97</td>\n",
              "      <td id=\"T_76681_row7_col9\" class=\"data row7 col9\" >0.96</td>\n",
              "      <td id=\"T_76681_row7_col10\" class=\"data row7 col10\" >0.95</td>\n",
              "      <td id=\"T_76681_row7_col11\" class=\"data row7 col11\" >-0.82</td>\n",
              "      <td id=\"T_76681_row7_col12\" class=\"data row7 col12\" >-0.79</td>\n",
              "      <td id=\"T_76681_row7_col13\" class=\"data row7 col13\" >0.95</td>\n",
              "      <td id=\"T_76681_row7_col14\" class=\"data row7 col14\" >0.88</td>\n",
              "    </tr>\n",
              "    <tr>\n",
              "      <th id=\"T_76681_level0_row8\" class=\"row_heading level0 row8\" >K+ 3</th>\n",
              "      <td id=\"T_76681_row8_col0\" class=\"data row8 col0\" >-0.35</td>\n",
              "      <td id=\"T_76681_row8_col1\" class=\"data row8 col1\" >-0.68</td>\n",
              "      <td id=\"T_76681_row8_col2\" class=\"data row8 col2\" >0.01</td>\n",
              "      <td id=\"T_76681_row8_col3\" class=\"data row8 col3\" >0.98</td>\n",
              "      <td id=\"T_76681_row8_col4\" class=\"data row8 col4\" >0.98</td>\n",
              "      <td id=\"T_76681_row8_col5\" class=\"data row8 col5\" >0.97</td>\n",
              "      <td id=\"T_76681_row8_col6\" class=\"data row8 col6\" >0.97</td>\n",
              "      <td id=\"T_76681_row8_col7\" class=\"data row8 col7\" >0.97</td>\n",
              "      <td id=\"T_76681_row8_col8\" class=\"data row8 col8\" >1.00</td>\n",
              "      <td id=\"T_76681_row8_col9\" class=\"data row8 col9\" >0.99</td>\n",
              "      <td id=\"T_76681_row8_col10\" class=\"data row8 col10\" >0.97</td>\n",
              "      <td id=\"T_76681_row8_col11\" class=\"data row8 col11\" >-0.90</td>\n",
              "      <td id=\"T_76681_row8_col12\" class=\"data row8 col12\" >-0.88</td>\n",
              "      <td id=\"T_76681_row8_col13\" class=\"data row8 col13\" >0.98</td>\n",
              "      <td id=\"T_76681_row8_col14\" class=\"data row8 col14\" >0.90</td>\n",
              "    </tr>\n",
              "    <tr>\n",
              "      <th id=\"T_76681_level0_row9\" class=\"row_heading level0 row9\" >K+ 5</th>\n",
              "      <td id=\"T_76681_row9_col0\" class=\"data row9 col0\" >-0.34</td>\n",
              "      <td id=\"T_76681_row9_col1\" class=\"data row9 col1\" >-0.66</td>\n",
              "      <td id=\"T_76681_row9_col2\" class=\"data row9 col2\" >-0.04</td>\n",
              "      <td id=\"T_76681_row9_col3\" class=\"data row9 col3\" >0.98</td>\n",
              "      <td id=\"T_76681_row9_col4\" class=\"data row9 col4\" >0.98</td>\n",
              "      <td id=\"T_76681_row9_col5\" class=\"data row9 col5\" >0.97</td>\n",
              "      <td id=\"T_76681_row9_col6\" class=\"data row9 col6\" >0.96</td>\n",
              "      <td id=\"T_76681_row9_col7\" class=\"data row9 col7\" >0.96</td>\n",
              "      <td id=\"T_76681_row9_col8\" class=\"data row9 col8\" >0.99</td>\n",
              "      <td id=\"T_76681_row9_col9\" class=\"data row9 col9\" >1.00</td>\n",
              "      <td id=\"T_76681_row9_col10\" class=\"data row9 col10\" >0.97</td>\n",
              "      <td id=\"T_76681_row9_col11\" class=\"data row9 col11\" >-0.90</td>\n",
              "      <td id=\"T_76681_row9_col12\" class=\"data row9 col12\" >-0.89</td>\n",
              "      <td id=\"T_76681_row9_col13\" class=\"data row9 col13\" >0.97</td>\n",
              "      <td id=\"T_76681_row9_col14\" class=\"data row9 col14\" >0.88</td>\n",
              "    </tr>\n",
              "    <tr>\n",
              "      <th id=\"T_76681_level0_row10\" class=\"row_heading level0 row10\" >NH4+ 3</th>\n",
              "      <td id=\"T_76681_row10_col0\" class=\"data row10 col0\" >-0.39</td>\n",
              "      <td id=\"T_76681_row10_col1\" class=\"data row10 col1\" >-0.73</td>\n",
              "      <td id=\"T_76681_row10_col2\" class=\"data row10 col2\" >-0.01</td>\n",
              "      <td id=\"T_76681_row10_col3\" class=\"data row10 col3\" >0.97</td>\n",
              "      <td id=\"T_76681_row10_col4\" class=\"data row10 col4\" >0.96</td>\n",
              "      <td id=\"T_76681_row10_col5\" class=\"data row10 col5\" >0.94</td>\n",
              "      <td id=\"T_76681_row10_col6\" class=\"data row10 col6\" >0.94</td>\n",
              "      <td id=\"T_76681_row10_col7\" class=\"data row10 col7\" >0.95</td>\n",
              "      <td id=\"T_76681_row10_col8\" class=\"data row10 col8\" >0.97</td>\n",
              "      <td id=\"T_76681_row10_col9\" class=\"data row10 col9\" >0.97</td>\n",
              "      <td id=\"T_76681_row10_col10\" class=\"data row10 col10\" >1.00</td>\n",
              "      <td id=\"T_76681_row10_col11\" class=\"data row10 col11\" >-0.92</td>\n",
              "      <td id=\"T_76681_row10_col12\" class=\"data row10 col12\" >-0.92</td>\n",
              "      <td id=\"T_76681_row10_col13\" class=\"data row10 col13\" >1.00</td>\n",
              "      <td id=\"T_76681_row10_col14\" class=\"data row10 col14\" >0.95</td>\n",
              "    </tr>\n",
              "    <tr>\n",
              "      <th id=\"T_76681_level0_row11\" class=\"row_heading level0 row11\" >A5-(Cl-)</th>\n",
              "      <td id=\"T_76681_row11_col0\" class=\"data row11 col0\" >0.46</td>\n",
              "      <td id=\"T_76681_row11_col1\" class=\"data row11 col1\" >0.73</td>\n",
              "      <td id=\"T_76681_row11_col2\" class=\"data row11 col2\" >0.00</td>\n",
              "      <td id=\"T_76681_row11_col3\" class=\"data row11 col3\" >-0.89</td>\n",
              "      <td id=\"T_76681_row11_col4\" class=\"data row11 col4\" >-0.88</td>\n",
              "      <td id=\"T_76681_row11_col5\" class=\"data row11 col5\" >-0.81</td>\n",
              "      <td id=\"T_76681_row11_col6\" class=\"data row11 col6\" >-0.80</td>\n",
              "      <td id=\"T_76681_row11_col7\" class=\"data row11 col7\" >-0.82</td>\n",
              "      <td id=\"T_76681_row11_col8\" class=\"data row11 col8\" >-0.90</td>\n",
              "      <td id=\"T_76681_row11_col9\" class=\"data row11 col9\" >-0.90</td>\n",
              "      <td id=\"T_76681_row11_col10\" class=\"data row11 col10\" >-0.92</td>\n",
              "      <td id=\"T_76681_row11_col11\" class=\"data row11 col11\" >1.00</td>\n",
              "      <td id=\"T_76681_row11_col12\" class=\"data row11 col12\" >0.99</td>\n",
              "      <td id=\"T_76681_row11_col13\" class=\"data row11 col13\" >-0.92</td>\n",
              "      <td id=\"T_76681_row11_col14\" class=\"data row11 col14\" >-0.82</td>\n",
              "    </tr>\n",
              "    <tr>\n",
              "      <th id=\"T_76681_level0_row12\" class=\"row_heading level0 row12\" >A-10(Cl-)</th>\n",
              "      <td id=\"T_76681_row12_col0\" class=\"data row12 col0\" >0.47</td>\n",
              "      <td id=\"T_76681_row12_col1\" class=\"data row12 col1\" >0.74</td>\n",
              "      <td id=\"T_76681_row12_col2\" class=\"data row12 col2\" >-0.00</td>\n",
              "      <td id=\"T_76681_row12_col3\" class=\"data row12 col3\" >-0.86</td>\n",
              "      <td id=\"T_76681_row12_col4\" class=\"data row12 col4\" >-0.86</td>\n",
              "      <td id=\"T_76681_row12_col5\" class=\"data row12 col5\" >-0.78</td>\n",
              "      <td id=\"T_76681_row12_col6\" class=\"data row12 col6\" >-0.77</td>\n",
              "      <td id=\"T_76681_row12_col7\" class=\"data row12 col7\" >-0.79</td>\n",
              "      <td id=\"T_76681_row12_col8\" class=\"data row12 col8\" >-0.88</td>\n",
              "      <td id=\"T_76681_row12_col9\" class=\"data row12 col9\" >-0.89</td>\n",
              "      <td id=\"T_76681_row12_col10\" class=\"data row12 col10\" >-0.92</td>\n",
              "      <td id=\"T_76681_row12_col11\" class=\"data row12 col11\" >0.99</td>\n",
              "      <td id=\"T_76681_row12_col12\" class=\"data row12 col12\" >1.00</td>\n",
              "      <td id=\"T_76681_row12_col13\" class=\"data row12 col13\" >-0.91</td>\n",
              "      <td id=\"T_76681_row12_col14\" class=\"data row12 col14\" >-0.83</td>\n",
              "    </tr>\n",
              "    <tr>\n",
              "      <th id=\"T_76681_level0_row13\" class=\"row_heading level0 row13\" >NH4+ 2</th>\n",
              "      <td id=\"T_76681_row13_col0\" class=\"data row13 col0\" >-0.38</td>\n",
              "      <td id=\"T_76681_row13_col1\" class=\"data row13 col1\" >-0.72</td>\n",
              "      <td id=\"T_76681_row13_col2\" class=\"data row13 col2\" >-0.00</td>\n",
              "      <td id=\"T_76681_row13_col3\" class=\"data row13 col3\" >0.97</td>\n",
              "      <td id=\"T_76681_row13_col4\" class=\"data row13 col4\" >0.96</td>\n",
              "      <td id=\"T_76681_row13_col5\" class=\"data row13 col5\" >0.94</td>\n",
              "      <td id=\"T_76681_row13_col6\" class=\"data row13 col6\" >0.95</td>\n",
              "      <td id=\"T_76681_row13_col7\" class=\"data row13 col7\" >0.95</td>\n",
              "      <td id=\"T_76681_row13_col8\" class=\"data row13 col8\" >0.98</td>\n",
              "      <td id=\"T_76681_row13_col9\" class=\"data row13 col9\" >0.97</td>\n",
              "      <td id=\"T_76681_row13_col10\" class=\"data row13 col10\" >1.00</td>\n",
              "      <td id=\"T_76681_row13_col11\" class=\"data row13 col11\" >-0.92</td>\n",
              "      <td id=\"T_76681_row13_col12\" class=\"data row13 col12\" >-0.91</td>\n",
              "      <td id=\"T_76681_row13_col13\" class=\"data row13 col13\" >1.00</td>\n",
              "      <td id=\"T_76681_row13_col14\" class=\"data row13 col14\" >0.95</td>\n",
              "    </tr>\n",
              "    <tr>\n",
              "      <th id=\"T_76681_level0_row14\" class=\"row_heading level0 row14\" >M</th>\n",
              "      <td id=\"T_76681_row14_col0\" class=\"data row14 col0\" >-0.40</td>\n",
              "      <td id=\"T_76681_row14_col1\" class=\"data row14 col1\" >-0.80</td>\n",
              "      <td id=\"T_76681_row14_col2\" class=\"data row14 col2\" >-0.00</td>\n",
              "      <td id=\"T_76681_row14_col3\" class=\"data row14 col3\" >0.88</td>\n",
              "      <td id=\"T_76681_row14_col4\" class=\"data row14 col4\" >0.87</td>\n",
              "      <td id=\"T_76681_row14_col5\" class=\"data row14 col5\" >0.87</td>\n",
              "      <td id=\"T_76681_row14_col6\" class=\"data row14 col6\" >0.87</td>\n",
              "      <td id=\"T_76681_row14_col7\" class=\"data row14 col7\" >0.88</td>\n",
              "      <td id=\"T_76681_row14_col8\" class=\"data row14 col8\" >0.90</td>\n",
              "      <td id=\"T_76681_row14_col9\" class=\"data row14 col9\" >0.88</td>\n",
              "      <td id=\"T_76681_row14_col10\" class=\"data row14 col10\" >0.95</td>\n",
              "      <td id=\"T_76681_row14_col11\" class=\"data row14 col11\" >-0.82</td>\n",
              "      <td id=\"T_76681_row14_col12\" class=\"data row14 col12\" >-0.83</td>\n",
              "      <td id=\"T_76681_row14_col13\" class=\"data row14 col13\" >0.95</td>\n",
              "      <td id=\"T_76681_row14_col14\" class=\"data row14 col14\" >1.00</td>\n",
              "    </tr>\n",
              "  </tbody>\n",
              "</table>\n"
            ]
          },
          "metadata": {},
          "execution_count": 7
        },
        {
          "output_type": "display_data",
          "data": {
            "text/plain": [
              "<Figure size 600x600 with 0 Axes>"
            ]
          },
          "metadata": {}
        }
      ],
      "source": [
        "#lets check the correlation matrix of our dataframe\n",
        "corr = df.corr()\n",
        "plt.figure(figsize=(6,6))\n",
        "corr.style.background_gradient(cmap='coolwarm', axis=None).set_precision(2)"
      ]
    },
    {
      "cell_type": "code",
      "execution_count": 8,
      "metadata": {
        "colab": {
          "base_uri": "https://localhost:8080/"
        },
        "id": "IkHjbKZ_RSEW",
        "outputId": "fd6e14aa-e532-47ad-cf6d-ec8872df2466"
      },
      "outputs": [
        {
          "output_type": "stream",
          "name": "stdout",
          "text": [
            "Empty DataFrame\n",
            "Columns: [missing_count, missing_ratio]\n",
            "Index: []\n"
          ]
        }
      ],
      "source": [
        "# lets check if there are any columns with missing values\n",
        "missv_df = (df.isna()\n",
        "            .sum()\n",
        "            .to_frame('missing_count')\n",
        "            .assign(missing_ratio = lambda x: x['missing_count']/len(df))\n",
        "            .loc[df.isna().any()] )\n",
        "print(missv_df)"
      ]
    },
    {
      "cell_type": "markdown",
      "metadata": {
        "id": "K6_5kubaRSEX"
      },
      "source": [
        "### Split the dataset into the features, that will be used for the analysis X and the vector of values that we will want to predict y"
      ]
    },
    {
      "cell_type": "code",
      "execution_count": null,
      "metadata": {
        "id": "7vdbMxkARSEX"
      },
      "outputs": [],
      "source": [
        "#lets choose the all the columns except the alcohol\n",
        "X = df.iloc[:,1:].values"
      ]
    },
    {
      "cell_type": "code",
      "execution_count": null,
      "metadata": {
        "colab": {
          "base_uri": "https://localhost:8080/"
        },
        "id": "hCsz2yCebe1R",
        "outputId": "f0ba4fa3-6946-4d32-a5da-42075835b00e"
      },
      "outputs": [
        {
          "output_type": "stream",
          "name": "stdout",
          "text": [
            "[[1.710e+00 2.430e+00 1.560e+01 1.270e+02 2.800e+00 3.060e+00 2.800e-01\n",
            "  2.290e+00 5.640e+00 1.040e+00 3.920e+00 1.065e+03]\n",
            " [1.780e+00 2.140e+00 1.120e+01 1.000e+02 2.650e+00 2.760e+00 2.600e-01\n",
            "  1.280e+00 4.380e+00 1.050e+00 3.400e+00 1.050e+03]\n",
            " [2.360e+00 2.670e+00 1.860e+01 1.010e+02 2.800e+00 3.240e+00 3.000e-01\n",
            "  2.810e+00 5.680e+00 1.030e+00 3.170e+00 1.185e+03]\n",
            " [1.950e+00 2.500e+00 1.680e+01 1.130e+02 3.850e+00 3.490e+00 2.400e-01\n",
            "  2.180e+00 7.800e+00 8.600e-01 3.450e+00 1.480e+03]]\n"
          ]
        }
      ],
      "source": [
        "#lets print first four rows to see if we got it right\n",
        "print(X[:4,:])"
      ]
    },
    {
      "cell_type": "code",
      "execution_count": null,
      "metadata": {
        "id": "BGvDK_myRSEX"
      },
      "outputs": [],
      "source": [
        "# we will try to predict the alcohol content so lets column number 1 to y\n",
        "y = df.iloc[:,0].values"
      ]
    },
    {
      "cell_type": "code",
      "execution_count": null,
      "metadata": {
        "colab": {
          "base_uri": "https://localhost:8080/"
        },
        "id": "eYrOQ43XcJR3",
        "outputId": "8dd7f045-42cb-4604-929f-bc6fd06048fa"
      },
      "outputs": [
        {
          "output_type": "stream",
          "name": "stdout",
          "text": [
            "[14.23 13.2  13.16 14.37 13.24 14.2  14.39 14.06 14.83 13.86 14.1  14.12\n",
            " 13.75 14.75 14.38 13.63 14.3  13.83 14.19 13.64 14.06 12.93 13.71 12.85\n",
            " 13.5  13.05 13.39 13.3  13.87 14.02 13.73 13.58 13.68 13.76 13.51 13.48\n",
            " 13.28 13.05 13.07 14.22 13.56 13.41 13.88 13.24 13.05 14.21 14.38 13.9\n",
            " 14.1  13.94 13.05 13.83 13.82 13.77 13.74 13.56 14.22 13.29 13.72 12.37\n",
            " 12.33 12.64 13.67 12.37 12.17 12.37 13.11 12.37 13.34 12.21 12.29 13.86\n",
            " 13.49 12.99 11.96 11.66 13.03 11.84 12.33 12.7  12.   12.72 12.08 13.05\n",
            " 11.84 12.67 12.16 11.65 11.64 12.08 12.08 12.   12.69 12.29 11.62 12.47\n",
            " 11.81 12.29 12.37 12.29 12.08 12.6  12.34 11.82 12.51 12.42 12.25 12.72\n",
            " 12.22 11.61 11.46 12.52 11.76 11.41 12.08 11.03 11.82 12.42 12.77 12.\n",
            " 11.45 11.56 12.42 13.05 11.87 12.07 12.43 11.79 12.37 12.04 12.86 12.88\n",
            " 12.81 12.7  12.51 12.6  12.25 12.53 13.49 12.84 12.93 13.36 13.52 13.62\n",
            " 12.25 13.16 13.88 12.87 13.32 13.08 13.5  12.79 13.11 13.23 12.58 13.17\n",
            " 13.84 12.45 14.34 13.48 12.36 13.69 12.85 12.96 13.78 13.73 13.45 12.82\n",
            " 13.58 13.4  12.2  12.77 14.16 13.71 13.4  13.27 13.17 14.13]\n"
          ]
        }
      ],
      "source": [
        "# and check if its the alcohol content\n",
        "print(y)"
      ]
    },
    {
      "cell_type": "markdown",
      "metadata": {
        "id": "qb_vcgm3qZKW"
      },
      "source": [
        "## Splitting the dataset into the Training set and Test set"
      ]
    },
    {
      "cell_type": "code",
      "execution_count": null,
      "metadata": {
        "id": "pXgA6CzlqbCl"
      },
      "outputs": [],
      "source": [
        "from sklearn.model_selection import train_test_split\n",
        "X_train, X_test, y_train, y_test = train_test_split(X, y, test_size = 0.25, random_state = 1)"
      ]
    },
    {
      "cell_type": "code",
      "execution_count": null,
      "metadata": {
        "colab": {
          "base_uri": "https://localhost:8080/"
        },
        "id": "GuwQhFdKrYTM",
        "outputId": "a4b635e1-5c3a-4b2d-bc74-10537d0545b2"
      },
      "outputs": [
        {
          "output_type": "stream",
          "name": "stdout",
          "text": [
            "[[1.770e+00 2.100e+00 1.700e+01 1.070e+02 3.000e+00 3.000e+00 2.800e-01\n",
            "  2.030e+00 5.040e+00 8.800e-01 3.350e+00 8.850e+02]\n",
            " [9.900e-01 1.950e+00 1.480e+01 1.360e+02 1.900e+00 1.850e+00 3.500e-01\n",
            "  2.760e+00 3.400e+00 1.060e+00 2.310e+00 7.500e+02]\n",
            " [1.530e+00 2.700e+00 1.950e+01 1.320e+02 2.950e+00 2.740e+00 5.000e-01\n",
            "  1.350e+00 5.400e+00 1.250e+00 3.000e+00 1.235e+03]\n",
            " [1.590e+00 2.480e+00 1.650e+01 1.080e+02 3.300e+00 3.930e+00 3.200e-01\n",
            "  1.860e+00 8.700e+00 1.230e+00 2.820e+00 1.680e+03]\n",
            " [1.430e+00 2.500e+00 1.670e+01 1.080e+02 3.400e+00 3.670e+00 1.900e-01\n",
            "  2.040e+00 6.800e+00 8.900e-01 2.870e+00 1.285e+03]]\n"
          ]
        }
      ],
      "source": [
        "print(X_train[:5,:])"
      ]
    },
    {
      "cell_type": "code",
      "execution_count": null,
      "metadata": {
        "colab": {
          "base_uri": "https://localhost:8080/"
        },
        "id": "TUrX_Tvcrbi4",
        "outputId": "f30e821d-be68-4d50-e9bd-8ca88d9585ca"
      },
      "outputs": [
        {
          "output_type": "stream",
          "name": "stdout",
          "text": [
            "[[3.260e+00 2.540e+00 2.000e+01 1.070e+02 1.830e+00 5.600e-01 5.000e-01\n",
            "  8.000e-01 5.880e+00 9.600e-01 1.820e+00 6.800e+02]\n",
            " [1.610e+00 2.190e+00 2.250e+01 1.080e+02 2.000e+00 2.090e+00 3.400e-01\n",
            "  1.610e+00 2.060e+00 1.060e+00 2.960e+00 3.450e+02]\n",
            " [3.100e+00 2.560e+00 1.520e+01 1.160e+02 2.700e+00 3.030e+00 1.700e-01\n",
            "  1.660e+00 5.100e+00 9.600e-01 3.360e+00 8.450e+02]\n",
            " [1.190e+00 1.750e+00 1.680e+01 1.510e+02 1.850e+00 1.280e+00 1.400e-01\n",
            "  2.500e+00 2.850e+00 1.280e+00 3.070e+00 7.180e+02]\n",
            " [1.900e+00 2.680e+00 1.710e+01 1.150e+02 3.000e+00 2.790e+00 3.900e-01\n",
            "  1.680e+00 6.300e+00 1.130e+00 2.930e+00 1.375e+03]]\n"
          ]
        }
      ],
      "source": [
        "print(X_test[:5,:])"
      ]
    },
    {
      "cell_type": "code",
      "execution_count": null,
      "metadata": {
        "colab": {
          "base_uri": "https://localhost:8080/"
        },
        "id": "pSMHiIsWreQY",
        "outputId": "1e0ad33e-ebf2-4651-8f76-b6d0731ee930"
      },
      "outputs": [
        {
          "output_type": "stream",
          "name": "stdout",
          "text": [
            "[13.05 12.33 13.76 14.19 13.72 11.79 14.16 13.32 13.75 12.08 12.47 13.87\n",
            " 11.87 12.6  13.11 13.05 13.83 13.78 12.08 12.2  14.75 12.25 14.21 12.29\n",
            " 13.28 12.77 13.45 13.58 13.27 12.77 11.66 12.93 13.71 13.16 12.29 12.96\n",
            " 14.39 12.67 14.23 12.25 11.84 12.37 13.56 12.29 11.64 12.34 14.38 13.67\n",
            " 11.96 12.69 13.17 11.82 12.   12.07 11.46 14.1  13.51 13.68 13.16 13.07\n",
            " 13.05 12.58 14.13 13.3  12.08 12.85 11.82 12.37 13.86 13.5  12.51 12.42\n",
            " 12.81 13.23 11.65 12.37 12.52 12.82 14.34 12.17 13.63 12.08 13.41 13.62\n",
            " 11.61 12.   13.82 13.39 13.03 13.24 13.5  14.37 13.08 13.94 12.88 13.4\n",
            " 13.73 11.56 11.03 13.17 14.83 12.33 12.37 13.2  13.29 13.71 12.64 12.37\n",
            " 14.06 13.4  13.36 12.16 11.81 13.34 13.05 13.52 12.45 13.84 12.84 13.88\n",
            " 12.6  14.06 13.05 12.51 13.86 12.04 12.25 12.7  12.7  12.53 13.49 12.93\n",
            " 13.05]\n"
          ]
        }
      ],
      "source": [
        "print(y_train)"
      ]
    },
    {
      "cell_type": "code",
      "execution_count": null,
      "metadata": {
        "colab": {
          "base_uri": "https://localhost:8080/"
        },
        "id": "I_tW7H56rgtW",
        "outputId": "d9d0d043-828f-4736-b2c8-f2550e62c031"
      },
      "outputs": [
        {
          "output_type": "stream",
          "name": "stdout",
          "text": [
            "[13.69 12.42 13.64 12.21 13.77 13.49 11.76 14.38 12.36 12.72 14.12 13.24\n",
            " 12.22 13.88 11.84 11.41 13.11 13.48 12.42 13.58 13.83 12.43 12.86 12.99\n",
            " 13.56 12.85 13.9  14.02 14.3  12.87 12.29 13.48 12.79 14.2  11.45 11.62\n",
            " 12.   12.72 12.08 14.1  13.74 12.37 13.73 14.22 14.22]\n"
          ]
        }
      ],
      "source": [
        "print(y_test)"
      ]
    },
    {
      "cell_type": "markdown",
      "metadata": {
        "id": "TpGqbS4TqkIR"
      },
      "source": [
        "## Feature Scaling"
      ]
    },
    {
      "cell_type": "markdown",
      "metadata": {
        "id": "g5Wt63N7RSEZ"
      },
      "source": [
        "### Choose one of the scalers A. B. or C."
      ]
    },
    {
      "cell_type": "code",
      "execution_count": null,
      "metadata": {
        "id": "GOWNXkyDRSEZ"
      },
      "outputs": [],
      "source": [
        "# choose one and '#' the others\n",
        "# more options can be found in the documentation https://scikit-learn.org/stable/modules/preprocessing.html"
      ]
    },
    {
      "cell_type": "markdown",
      "metadata": {
        "id": "We29QpzRRSEZ"
      },
      "source": [
        "### A. MIN MAX Scaler"
      ]
    },
    {
      "cell_type": "code",
      "execution_count": null,
      "metadata": {
        "id": "OPN0VofcRSEZ"
      },
      "outputs": [],
      "source": [
        "# MIN MAX Scaler -scales values to some specific range\n",
        "# to change range simply change the values in the paranthesis of featre_range\n",
        "from sklearn.preprocessing import MinMaxScaler\n",
        "min_max_sc2 = MinMaxScaler(feature_range=(0,1))\n",
        "X_train[:, :5] = min_max_sc2.fit_transform(X_train[:, :5])\n",
        "X_test[:, :5] = min_max_sc2.transform(X_test[:, :5])"
      ]
    },
    {
      "cell_type": "markdown",
      "metadata": {
        "id": "_vwSLk_mRSEa"
      },
      "source": [
        "### B. Standarization"
      ]
    },
    {
      "cell_type": "code",
      "execution_count": null,
      "metadata": {
        "id": "AxjSUXFQqo-3"
      },
      "outputs": [],
      "source": [
        "# Standarization : zero mean and unit variance\n",
        "from sklearn.preprocessing import StandardScaler\n",
        "sc = StandardScaler()\n",
        "X_train = sc.fit_transform(X_train)\n",
        "X_test = sc.transform(X_test)"
      ]
    },
    {
      "cell_type": "markdown",
      "metadata": {
        "id": "Q1Wrp_SxRSEa"
      },
      "source": [
        "### C. Normalization"
      ]
    },
    {
      "cell_type": "code",
      "execution_count": null,
      "metadata": {
        "id": "quvzUPJjRSEa"
      },
      "outputs": [],
      "source": [
        "# Normalization : scaling individual samples to have unit norm\n",
        "from sklearn.preprocessing import Normalizer\n",
        "normalizer_sc = Normalizer().fit(X)  # fit does nothing each sample is treated separately\n",
        "X_train[:, :5] = normalizer_sc.transform(X_train[:, :5])\n",
        "X_test[:, :5] = normalizer_sc.transform(X_test[:, :5])"
      ]
    },
    {
      "cell_type": "code",
      "execution_count": null,
      "metadata": {
        "colab": {
          "base_uri": "https://localhost:8080/"
        },
        "id": "DWPET8ZdlMnu",
        "outputId": "3513dffa-c5f6-4aad-fd95-e45a32b2a6aa"
      },
      "outputs": [
        {
          "output_type": "stream",
          "name": "stdout",
          "text": [
            "[[1.77551020e-01 2.61437908e-01 3.35260116e-01 4.02173913e-01\n",
            "  6.96551724e-01 3.00000000e+00 2.80000000e-01 2.03000000e+00\n",
            "  5.04000000e+00 8.80000000e-01 3.35000000e+00 8.85000000e+02]\n",
            " [1.83673469e-02 1.63398693e-01 2.08092486e-01 7.17391304e-01\n",
            "  3.17241379e-01 1.85000000e+00 3.50000000e-01 2.76000000e+00\n",
            "  3.40000000e+00 1.06000000e+00 2.31000000e+00 7.50000000e+02]\n",
            " [1.28571429e-01 6.53594771e-01 4.79768786e-01 6.73913043e-01\n",
            "  6.79310345e-01 2.74000000e+00 5.00000000e-01 1.35000000e+00\n",
            "  5.40000000e+00 1.25000000e+00 3.00000000e+00 1.23500000e+03]\n",
            " [1.40816327e-01 5.09803922e-01 3.06358382e-01 4.13043478e-01\n",
            "  8.00000000e-01 3.93000000e+00 3.20000000e-01 1.86000000e+00\n",
            "  8.70000000e+00 1.23000000e+00 2.82000000e+00 1.68000000e+03]\n",
            " [1.08163265e-01 5.22875817e-01 3.17919075e-01 4.13043478e-01\n",
            "  8.34482759e-01 3.67000000e+00 1.90000000e-01 2.04000000e+00\n",
            "  6.80000000e+00 8.90000000e-01 2.87000000e+00 1.28500000e+03]]\n"
          ]
        }
      ],
      "source": [
        "print(X_train[:5,:])"
      ]
    },
    {
      "cell_type": "code",
      "execution_count": null,
      "metadata": {
        "colab": {
          "base_uri": "https://localhost:8080/"
        },
        "id": "sTXykB_QlRjE",
        "outputId": "cfbd5e2e-fc17-40ee-e692-cf2e6e1101dd"
      },
      "outputs": [
        {
          "output_type": "stream",
          "name": "stdout",
          "text": [
            "[[4.81632653e-01 5.49019608e-01 5.08670520e-01 4.02173913e-01\n",
            "  2.93103448e-01 5.60000000e-01 5.00000000e-01 8.00000000e-01\n",
            "  5.88000000e+00 9.60000000e-01 1.82000000e+00 6.80000000e+02]\n",
            " [1.44897959e-01 3.20261438e-01 6.53179191e-01 4.13043478e-01\n",
            "  3.51724138e-01 2.09000000e+00 3.40000000e-01 1.61000000e+00\n",
            "  2.06000000e+00 1.06000000e+00 2.96000000e+00 3.45000000e+02]\n",
            " [4.48979592e-01 5.62091503e-01 2.31213873e-01 5.00000000e-01\n",
            "  5.93103448e-01 3.03000000e+00 1.70000000e-01 1.66000000e+00\n",
            "  5.10000000e+00 9.60000000e-01 3.36000000e+00 8.45000000e+02]\n",
            " [5.91836735e-02 3.26797386e-02 3.23699422e-01 8.80434783e-01\n",
            "  3.00000000e-01 1.28000000e+00 1.40000000e-01 2.50000000e+00\n",
            "  2.85000000e+00 1.28000000e+00 3.07000000e+00 7.18000000e+02]\n",
            " [2.04081633e-01 6.40522876e-01 3.41040462e-01 4.89130435e-01\n",
            "  6.96551724e-01 2.79000000e+00 3.90000000e-01 1.68000000e+00\n",
            "  6.30000000e+00 1.13000000e+00 2.93000000e+00 1.37500000e+03]]\n"
          ]
        }
      ],
      "source": [
        "print(X_test[:5,:])"
      ]
    },
    {
      "cell_type": "markdown",
      "metadata": {
        "id": "kDPD33VgRSEa"
      },
      "source": [
        "# Regression"
      ]
    },
    {
      "cell_type": "markdown",
      "metadata": {
        "id": "MFdoiiYMRSEb"
      },
      "source": [
        "# Partial Least Squares"
      ]
    },
    {
      "cell_type": "code",
      "execution_count": null,
      "metadata": {
        "id": "ioVZnXnLRSEb"
      },
      "outputs": [],
      "source": [
        "from sklearn.cross_decomposition import PLSRegression\n",
        "from sklearn.model_selection import cross_val_predict\n",
        "from sklearn import metrics\n",
        "from sklearn.metrics import r2_score, mean_squared_error"
      ]
    },
    {
      "cell_type": "markdown",
      "metadata": {
        "id": "d6PP9XWvRSEb"
      },
      "source": [
        "### Apply the model to different parameters and check the opmimum number of Latent Variables"
      ]
    },
    {
      "cell_type": "code",
      "execution_count": null,
      "metadata": {
        "id": "tps6cetDRSEb"
      },
      "outputs": [],
      "source": [
        "def optimise_pls_cv(X_train, y_train, n_comp):\n",
        "    # Define PLS object\n",
        "    pls = PLSRegression(n_components=n_comp)\n",
        "\n",
        "    # Cross-validation\n",
        "    y_cv = cross_val_predict(pls, X_train, y_train, cv=2)\n",
        "\n",
        "    # Calculate scores\n",
        "    r2 = r2_score(y_train, y_cv)\n",
        "    mse = mean_squared_error(y_train, y_cv)\n",
        "\n",
        "    return (r2, mse)"
      ]
    },
    {
      "cell_type": "code",
      "execution_count": null,
      "metadata": {
        "id": "aWRkciG-RSEb"
      },
      "outputs": [],
      "source": [
        "# test with 12 components\n",
        "r2s = []\n",
        "mses = []\n",
        "xticks = np.arange(1, 12)\n",
        "for n_comp in xticks:\n",
        "    r2, mse = optimise_pls_cv(X_train, y_train, n_comp)\n",
        "    r2s.append(r2)\n",
        "    mses.append(mse)"
      ]
    },
    {
      "cell_type": "code",
      "execution_count": null,
      "metadata": {
        "id": "DLILrAayRSEb"
      },
      "outputs": [],
      "source": [
        "# Plot the mses\n",
        "def plot_metrics(vals, ylabel, objective):\n",
        "    with plt.style.context('ggplot'):\n",
        "        plt.plot(xticks, np.array(vals), '-v', color='blue', mfc='blue')\n",
        "        if objective=='min':\n",
        "            idx = np.argmin(vals)\n",
        "        else:\n",
        "            idx = np.argmax(vals)\n",
        "        plt.plot(xticks[idx], np.array(vals)[idx], 'P', ms=10, mfc='red')\n",
        "\n",
        "        plt.xlabel('Number of PLS components')\n",
        "        plt.xticks = xticks\n",
        "        plt.ylabel(ylabel)\n",
        "        plt.title('PLS')\n",
        "\n",
        "    plt.show()"
      ]
    },
    {
      "cell_type": "code",
      "execution_count": null,
      "metadata": {
        "id": "C3HzNI2HRSEb",
        "outputId": "1e15a16b-c430-495a-a762-b6a76527299e",
        "colab": {
          "base_uri": "https://localhost:8080/",
          "height": 477
        }
      },
      "outputs": [
        {
          "output_type": "display_data",
          "data": {
            "text/plain": [
              "<Figure size 640x480 with 1 Axes>"
            ],
            "image/png": "[encoded data removed]"
          },
          "metadata": {}
        }
      ],
      "source": [
        "plot_metrics(mses, 'MSE', 'min')"
      ]
    },
    {
      "cell_type": "code",
      "execution_count": null,
      "metadata": {
        "colab": {
          "base_uri": "https://localhost:8080/",
          "height": 477
        },
        "id": "MAz9T3ZyRSEc",
        "outputId": "ed112792-d82b-440c-c72e-8ed0460d39ea"
      },
      "outputs": [
        {
          "output_type": "display_data",
          "data": {
            "text/plain": [
              "<Figure size 640x480 with 1 Axes>"
            ],
            "image/png": "[encoded data removed]"
          },
          "metadata": {}
        }
      ],
      "source": [
        "plot_metrics(r2s, 'R2', 'max')"
      ]
    },
    {
      "cell_type": "code",
      "execution_count": null,
      "metadata": {
        "colab": {
          "base_uri": "https://localhost:8080/"
        },
        "id": "9ClWHrT2RSEc",
        "outputId": "04f0874e-1ecb-47aa-f697-98ceffa18b72"
      },
      "outputs": [
        {
          "output_type": "stream",
          "name": "stdout",
          "text": [
            "PLS r-squared 0.620\n"
          ]
        }
      ],
      "source": [
        "pls = PLSRegression(n_components=3)\n",
        "pls.fit(X_train, y_train)\n",
        "print(f\"PLS r-squared {pls.score(X_test, y_test):.3f}\")\n",
        "# a negative value means that the the model performs worse than a regressor that would simply predict the mean of the target"
      ]
    },
    {
      "cell_type": "markdown",
      "metadata": {
        "id": "ejy4UIClRSEq"
      },
      "source": [
        "### Now lets check the metrics for test data"
      ]
    },
    {
      "cell_type": "code",
      "execution_count": null,
      "metadata": {
        "id": "23BYwTplRSEq"
      },
      "outputs": [],
      "source": [
        "def optimise_pls_test(X_train, y_train, X_test, y_test, n_comp):\n",
        "    # Define PLS object\n",
        "    pls = PLSRegression(n_components=n_comp)\n",
        "    pls.fit(X_train, y_train)\n",
        "\n",
        "    # Calculate scores\n",
        "    r2_test = r2_score(y_test, pls.predict(X_test))\n",
        "    mse_test = mean_squared_error(y_test, pls.predict(X_test))\n",
        "\n",
        "    return (r2_test, mse_test)"
      ]
    },
    {
      "cell_type": "code",
      "execution_count": null,
      "metadata": {
        "id": "uo9Bm-r7RSEq"
      },
      "outputs": [],
      "source": [
        "# test with 7 components\n",
        "r2s_test = []\n",
        "mses_test = []\n",
        "xticks_2 = np.arange(1, 12)\n",
        "for n_comp in xticks_2:\n",
        "    r2_test, mse_test = optimise_pls_test(X_train, y_train, X_test, y_test, n_comp)\n",
        "    r2s_test.append(r2_test)\n",
        "    mses_test.append(mse_test)"
      ]
    },
    {
      "cell_type": "code",
      "execution_count": null,
      "metadata": {
        "colab": {
          "base_uri": "https://localhost:8080/",
          "height": 477
        },
        "id": "9Jl4mNebRSEr",
        "outputId": "4df786fe-14b7-4355-e8c5-463687c74574"
      },
      "outputs": [
        {
          "output_type": "display_data",
          "data": {
            "text/plain": [
              "<Figure size 640x480 with 1 Axes>"
            ],
            "image/png": "[encoded data removed]"
          },
          "metadata": {}
        }
      ],
      "source": [
        "plot_metrics(mses_test, 'MSE_test', 'min')"
      ]
    },
    {
      "cell_type": "code",
      "execution_count": null,
      "metadata": {
        "colab": {
          "base_uri": "https://localhost:8080/",
          "height": 477
        },
        "id": "j0wOIVw2RSEr",
        "outputId": "422bd25e-09f8-49b8-dd59-782782c36b6a"
      },
      "outputs": [
        {
          "output_type": "display_data",
          "data": {
            "text/plain": [
              "<Figure size 640x480 with 1 Axes>"
            ],
            "image/png": "[encoded data removed]"
          },
          "metadata": {}
        }
      ],
      "source": [
        "plot_metrics(r2s_test, 'R2_test', 'max')"
      ]
    },
    {
      "cell_type": "code",
      "execution_count": null,
      "metadata": {
        "id": "uppSzxvXRSEr"
      },
      "outputs": [],
      "source": [
        "pls = PLSRegression(n_components=3)\n",
        "pls.fit(X_train, y_train)\n",
        "predictions =pls.predict(X_test)"
      ]
    },
    {
      "cell_type": "code",
      "execution_count": null,
      "metadata": {
        "colab": {
          "base_uri": "https://localhost:8080/",
          "height": 542
        },
        "id": "hp8WwHm1RSEr",
        "outputId": "081bf9ac-57ba-4860-98f0-6ad181a6f996"
      },
      "outputs": [
        {
          "output_type": "display_data",
          "data": {
            "text/plain": [
              "<Figure size 800x600 with 1 Axes>"
            ],
            "image/png": "[encoded data removed]"
          },
          "metadata": {}
        }
      ],
      "source": [
        "#create a scatter plot of true and predicted values\n",
        "plt.figure(figsize=(8,6))\n",
        "plt.scatter(y_test,predictions,c='red')\n",
        "plt.xlabel('Alc. Vol % true')\n",
        "plt.ylabel('Alc. Vol % predicted')\n",
        "#plot a regression line\n",
        "m, b = np.polyfit(y_test,predictions, 1)\n",
        "plt.plot(y_test, m*y_test + b)\n",
        "plt.show()"
      ]
    },
    {
      "cell_type": "code",
      "execution_count": null,
      "metadata": {
        "colab": {
          "base_uri": "https://localhost:8080/"
        },
        "id": "4paLPqosRSEr",
        "outputId": "01f8aa69-1754-4770-c4a1-c8908608c86b"
      },
      "outputs": [
        {
          "output_type": "stream",
          "name": "stdout",
          "text": [
            "MAE: 0.42235461096623084\n",
            "MSE: 0.27735085459628156\n",
            "RMSE: 0.5266411060639699\n"
          ]
        }
      ],
      "source": [
        "print('MAE:', metrics.mean_absolute_error(y_test, predictions))\n",
        "print('MSE:', metrics.mean_squared_error(y_test, predictions))\n",
        "print('RMSE:', np.sqrt(metrics.mean_squared_error(y_test, predictions)))\n",
        "# MAE is the easiest to understand, because it's the average error.\n",
        "# MSE is more popular than MAE, because MSE \"punishes\" larger errors, which tends to be useful in the real world.\n",
        "# RMSE is even more popular than MSE, because RMSE is interpretable in the \"y\" units."
      ]
    },
    {
      "cell_type": "markdown",
      "metadata": {
        "id": "RQW3Dg9IRSEs"
      },
      "source": [
        "# Multiple Linear Regression"
      ]
    },
    {
      "cell_type": "code",
      "execution_count": null,
      "metadata": {
        "colab": {
          "base_uri": "https://localhost:8080/",
          "height": 74
        },
        "id": "F-8FsphKRSEs",
        "outputId": "4fe92423-cd5c-4721-f189-3e2b2fa1a95a"
      },
      "outputs": [
        {
          "output_type": "execute_result",
          "data": {
            "text/plain": [
              "LinearRegression()"
            ],
            "text/html": [
              "<style>#sk-container-id-1 {color: black;background-color: white;}#sk-container-id-1 pre{padding: 0;}#sk-container-id-1 div.sk-toggleable {background-color: white;}#sk-container-id-1 label.sk-toggleable__label {cursor: pointer;display: block;width: 100%;margin-bottom: 0;padding: 0.3em;box-sizing: border-box;text-align: center;}#sk-container-id-1 label.sk-toggleable__label-arrow:before {content: \"▸\";float: left;margin-right: 0.25em;color: #696969;}#sk-container-id-1 label.sk-toggleable__label-arrow:hover:before {color: black;}#sk-container-id-1 div.sk-estimator:hover label.sk-toggleable__label-arrow:before {color: black;}#sk-container-id-1 div.sk-toggleable__content {max-height: 0;max-width: 0;overflow: hidden;text-align: left;background-color: #f0f8ff;}#sk-container-id-1 div.sk-toggleable__content pre {margin: 0.2em;color: black;border-radius: 0.25em;background-color: #f0f8ff;}#sk-container-id-1 input.sk-toggleable__control:checked~div.sk-toggleable__content {max-height: 200px;max-width: 100%;overflow: auto;}#sk-container-id-1 input.sk-toggleable__control:checked~label.sk-toggleable__label-arrow:before {content: \"▾\";}#sk-container-id-1 div.sk-estimator input.sk-toggleable__control:checked~label.sk-toggleable__label {background-color: #d4ebff;}#sk-container-id-1 div.sk-label input.sk-toggleable__control:checked~label.sk-toggleable__label {background-color: #d4ebff;}#sk-container-id-1 input.sk-hidden--visually {border: 0;clip: rect(1px 1px 1px 1px);clip: rect(1px, 1px, 1px, 1px);height: 1px;margin: -1px;overflow: hidden;padding: 0;position: absolute;width: 1px;}#sk-container-id-1 div.sk-estimator {font-family: monospace;background-color: #f0f8ff;border: 1px dotted black;border-radius: 0.25em;box-sizing: border-box;margin-bottom: 0.5em;}#sk-container-id-1 div.sk-estimator:hover {background-color: #d4ebff;}#sk-container-id-1 div.sk-parallel-item::after {content: \"\";width: 100%;border-bottom: 1px solid gray;flex-grow: 1;}#sk-container-id-1 div.sk-label:hover label.sk-toggleable__label {background-color: #d4ebff;}#sk-container-id-1 div.sk-serial::before {content: \"\";position: absolute;border-left: 1px solid gray;box-sizing: border-box;top: 0;bottom: 0;left: 50%;z-index: 0;}#sk-container-id-1 div.sk-serial {display: flex;flex-direction: column;align-items: center;background-color: white;padding-right: 0.2em;padding-left: 0.2em;position: relative;}#sk-container-id-1 div.sk-item {position: relative;z-index: 1;}#sk-container-id-1 div.sk-parallel {display: flex;align-items: stretch;justify-content: center;background-color: white;position: relative;}#sk-container-id-1 div.sk-item::before, #sk-container-id-1 div.sk-parallel-item::before {content: \"\";position: absolute;border-left: 1px solid gray;box-sizing: border-box;top: 0;bottom: 0;left: 50%;z-index: -1;}#sk-container-id-1 div.sk-parallel-item {display: flex;flex-direction: column;z-index: 1;position: relative;background-color: white;}#sk-container-id-1 div.sk-parallel-item:first-child::after {align-self: flex-end;width: 50%;}#sk-container-id-1 div.sk-parallel-item:last-child::after {align-self: flex-start;width: 50%;}#sk-container-id-1 div.sk-parallel-item:only-child::after {width: 0;}#sk-container-id-1 div.sk-dashed-wrapped {border: 1px dashed gray;margin: 0 0.4em 0.5em 0.4em;box-sizing: border-box;padding-bottom: 0.4em;background-color: white;}#sk-container-id-1 div.sk-label label {font-family: monospace;font-weight: bold;display: inline-block;line-height: 1.2em;}#sk-container-id-1 div.sk-label-container {text-align: center;}#sk-container-id-1 div.sk-container {/* jupyter's `normalize.less` sets `[hidden] { display: none; }` but bootstrap.min.css set `[hidden] { display: none !important; }` so we also need the `!important` here to be able to override the default hidden behavior on the sphinx rendered scikit-learn.org. See: https://github.com/scikit-learn/scikit-learn/issues/21755 */display: inline-block !important;position: relative;}#sk-container-id-1 div.sk-text-repr-fallback {display: none;}</style><div id=\"sk-container-id-1\" class=\"sk-top-container\"><div class=\"sk-text-repr-fallback\"><pre>LinearRegression()</pre><b>In a Jupyter environment, please rerun this cell to show the HTML representation or trust the notebook. <br />On GitHub, the HTML representation is unable to render, please try loading this page with nbviewer.org.</b></div><div class=\"sk-container\" hidden><div class=\"sk-item\"><div class=\"sk-estimator sk-toggleable\"><input class=\"sk-toggleable__control sk-hidden--visually\" id=\"sk-estimator-id-1\" type=\"checkbox\" checked><label for=\"sk-estimator-id-1\" class=\"sk-toggleable__label sk-toggleable__label-arrow\">LinearRegression</label><div class=\"sk-toggleable__content\"><pre>LinearRegression()</pre></div></div></div></div></div>"
            ]
          },
          "metadata": {},
          "execution_count": 33
        }
      ],
      "source": [
        "from sklearn.linear_model import LinearRegression\n",
        "regressor = LinearRegression()\n",
        "regressor.fit(X_train, y_train)"
      ]
    },
    {
      "cell_type": "code",
      "execution_count": null,
      "metadata": {
        "id": "oCBcU6hgRSEs"
      },
      "outputs": [],
      "source": [
        "predictions_lr = regressor.predict(X_test)"
      ]
    },
    {
      "cell_type": "code",
      "execution_count": null,
      "metadata": {
        "colab": {
          "base_uri": "https://localhost:8080/",
          "height": 547
        },
        "id": "2u5l-DoFRSEs",
        "outputId": "75cf375c-98aa-4187-e080-2090aa0fa860"
      },
      "outputs": [
        {
          "output_type": "display_data",
          "data": {
            "text/plain": [
              "<Figure size 800x600 with 1 Axes>"
            ],
            "image/png": "[encoded data removed]"
          },
          "metadata": {}
        }
      ],
      "source": [
        "#create a scatter plot of true and predicted values\n",
        "plt.figure(figsize=(8,6))\n",
        "plt.scatter(y_test,predictions_lr,c='red')\n",
        "plt.xlabel('Alc. Vol % true')\n",
        "plt.ylabel('Alc. Vol % predicted')\n",
        "#plot a regression line\n",
        "m, b = np.polyfit(y_test,predictions_lr, 1)\n",
        "plt.plot(y_test, m*y_test + b)\n",
        "plt.show()"
      ]
    },
    {
      "cell_type": "code",
      "execution_count": null,
      "metadata": {
        "colab": {
          "base_uri": "https://localhost:8080/"
        },
        "id": "pwYczsM9RSEs",
        "outputId": "fc29a6f7-7836-41e6-e2aa-215cb45b9563"
      },
      "outputs": [
        {
          "output_type": "stream",
          "name": "stdout",
          "text": [
            "MAE: 0.42553421912996203\n",
            "MSE: 0.2778589604687586\n",
            "RMSE: 0.5271232877313984\n"
          ]
        }
      ],
      "source": [
        "print('MAE:', metrics.mean_absolute_error(y_test, predictions_lr))\n",
        "print('MSE:', metrics.mean_squared_error(y_test, predictions_lr))\n",
        "print('RMSE:', np.sqrt(metrics.mean_squared_error(y_test, predictions_lr)))"
      ]
    },
    {
      "cell_type": "markdown",
      "metadata": {
        "id": "krNW5PgjRSEs"
      },
      "source": [
        "# Polynomial Regression"
      ]
    },
    {
      "cell_type": "code",
      "execution_count": null,
      "metadata": {
        "colab": {
          "base_uri": "https://localhost:8080/",
          "height": 74
        },
        "id": "_IVNJEuaRSEt",
        "outputId": "f61c39c6-5501-4426-a9fa-b5590ec906c9"
      },
      "outputs": [
        {
          "output_type": "execute_result",
          "data": {
            "text/plain": [
              "LinearRegression()"
            ],
            "text/html": [
              "<style>#sk-container-id-2 {color: black;background-color: white;}#sk-container-id-2 pre{padding: 0;}#sk-container-id-2 div.sk-toggleable {background-color: white;}#sk-container-id-2 label.sk-toggleable__label {cursor: pointer;display: block;width: 100%;margin-bottom: 0;padding: 0.3em;box-sizing: border-box;text-align: center;}#sk-container-id-2 label.sk-toggleable__label-arrow:before {content: \"▸\";float: left;margin-right: 0.25em;color: #696969;}#sk-container-id-2 label.sk-toggleable__label-arrow:hover:before {color: black;}#sk-container-id-2 div.sk-estimator:hover label.sk-toggleable__label-arrow:before {color: black;}#sk-container-id-2 div.sk-toggleable__content {max-height: 0;max-width: 0;overflow: hidden;text-align: left;background-color: #f0f8ff;}#sk-container-id-2 div.sk-toggleable__content pre {margin: 0.2em;color: black;border-radius: 0.25em;background-color: #f0f8ff;}#sk-container-id-2 input.sk-toggleable__control:checked~div.sk-toggleable__content {max-height: 200px;max-width: 100%;overflow: auto;}#sk-container-id-2 input.sk-toggleable__control:checked~label.sk-toggleable__label-arrow:before {content: \"▾\";}#sk-container-id-2 div.sk-estimator input.sk-toggleable__control:checked~label.sk-toggleable__label {background-color: #d4ebff;}#sk-container-id-2 div.sk-label input.sk-toggleable__control:checked~label.sk-toggleable__label {background-color: #d4ebff;}#sk-container-id-2 input.sk-hidden--visually {border: 0;clip: rect(1px 1px 1px 1px);clip: rect(1px, 1px, 1px, 1px);height: 1px;margin: -1px;overflow: hidden;padding: 0;position: absolute;width: 1px;}#sk-container-id-2 div.sk-estimator {font-family: monospace;background-color: #f0f8ff;border: 1px dotted black;border-radius: 0.25em;box-sizing: border-box;margin-bottom: 0.5em;}#sk-container-id-2 div.sk-estimator:hover {background-color: #d4ebff;}#sk-container-id-2 div.sk-parallel-item::after {content: \"\";width: 100%;border-bottom: 1px solid gray;flex-grow: 1;}#sk-container-id-2 div.sk-label:hover label.sk-toggleable__label {background-color: #d4ebff;}#sk-container-id-2 div.sk-serial::before {content: \"\";position: absolute;border-left: 1px solid gray;box-sizing: border-box;top: 0;bottom: 0;left: 50%;z-index: 0;}#sk-container-id-2 div.sk-serial {display: flex;flex-direction: column;align-items: center;background-color: white;padding-right: 0.2em;padding-left: 0.2em;position: relative;}#sk-container-id-2 div.sk-item {position: relative;z-index: 1;}#sk-container-id-2 div.sk-parallel {display: flex;align-items: stretch;justify-content: center;background-color: white;position: relative;}#sk-container-id-2 div.sk-item::before, #sk-container-id-2 div.sk-parallel-item::before {content: \"\";position: absolute;border-left: 1px solid gray;box-sizing: border-box;top: 0;bottom: 0;left: 50%;z-index: -1;}#sk-container-id-2 div.sk-parallel-item {display: flex;flex-direction: column;z-index: 1;position: relative;background-color: white;}#sk-container-id-2 div.sk-parallel-item:first-child::after {align-self: flex-end;width: 50%;}#sk-container-id-2 div.sk-parallel-item:last-child::after {align-self: flex-start;width: 50%;}#sk-container-id-2 div.sk-parallel-item:only-child::after {width: 0;}#sk-container-id-2 div.sk-dashed-wrapped {border: 1px dashed gray;margin: 0 0.4em 0.5em 0.4em;box-sizing: border-box;padding-bottom: 0.4em;background-color: white;}#sk-container-id-2 div.sk-label label {font-family: monospace;font-weight: bold;display: inline-block;line-height: 1.2em;}#sk-container-id-2 div.sk-label-container {text-align: center;}#sk-container-id-2 div.sk-container {/* jupyter's `normalize.less` sets `[hidden] { display: none; }` but bootstrap.min.css set `[hidden] { display: none !important; }` so we also need the `!important` here to be able to override the default hidden behavior on the sphinx rendered scikit-learn.org. See: https://github.com/scikit-learn/scikit-learn/issues/21755 */display: inline-block !important;position: relative;}#sk-container-id-2 div.sk-text-repr-fallback {display: none;}</style><div id=\"sk-container-id-2\" class=\"sk-top-container\"><div class=\"sk-text-repr-fallback\"><pre>LinearRegression()</pre><b>In a Jupyter environment, please rerun this cell to show the HTML representation or trust the notebook. <br />On GitHub, the HTML representation is unable to render, please try loading this page with nbviewer.org.</b></div><div class=\"sk-container\" hidden><div class=\"sk-item\"><div class=\"sk-estimator sk-toggleable\"><input class=\"sk-toggleable__control sk-hidden--visually\" id=\"sk-estimator-id-2\" type=\"checkbox\" checked><label for=\"sk-estimator-id-2\" class=\"sk-toggleable__label sk-toggleable__label-arrow\">LinearRegression</label><div class=\"sk-toggleable__content\"><pre>LinearRegression()</pre></div></div></div></div></div>"
            ]
          },
          "metadata": {},
          "execution_count": 37
        }
      ],
      "source": [
        "from sklearn.preprocessing import PolynomialFeatures\n",
        "poly_reg = PolynomialFeatures(degree = 2)\n",
        "X_poly_train = poly_reg.fit_transform(X_train)\n",
        "X_poly_test = poly_reg.transform(X_test)\n",
        "lin_reg_2 = LinearRegression()\n",
        "lin_reg_2.fit(X_poly_train, y_train)"
      ]
    },
    {
      "cell_type": "code",
      "execution_count": null,
      "metadata": {
        "id": "RFMp0zJGRSEt"
      },
      "outputs": [],
      "source": [
        "predictions_poly = lin_reg_2.predict(X_poly_test)"
      ]
    },
    {
      "cell_type": "code",
      "execution_count": null,
      "metadata": {
        "colab": {
          "base_uri": "https://localhost:8080/",
          "height": 542
        },
        "id": "kGBYwiZjRSEt",
        "outputId": "cf87d82a-bcfc-4988-de73-e9ccda0e981f"
      },
      "outputs": [
        {
          "output_type": "display_data",
          "data": {
            "text/plain": [
              "<Figure size 800x600 with 1 Axes>"
            ],
            "image/png": "[encoded data removed]"
          },
          "metadata": {}
        }
      ],
      "source": [
        "#create a scatter plot of true and predicted values\n",
        "plt.figure(figsize=(8,6))\n",
        "plt.scatter(y_test,predictions_poly,c='red')\n",
        "plt.xlabel('Alc. Vol % true')\n",
        "plt.ylabel('Alc. Vol % predicted')\n",
        "#plot a regression line\n",
        "m, b = np.polyfit(y_test,predictions_poly, 1)\n",
        "plt.plot(y_test, m*y_test + b)\n",
        "plt.show()"
      ]
    },
    {
      "cell_type": "code",
      "execution_count": null,
      "metadata": {
        "colab": {
          "base_uri": "https://localhost:8080/"
        },
        "id": "EOoKuu0vRSEt",
        "outputId": "bd987324-0e03-46a3-a511-c0a72aeac7ff"
      },
      "outputs": [
        {
          "output_type": "stream",
          "name": "stdout",
          "text": [
            "MAE: 0.84740540553962\n",
            "MSE: 1.5002115763160395\n",
            "RMSE: 1.2248312440152886\n"
          ]
        }
      ],
      "source": [
        "print('MAE:', metrics.mean_absolute_error(y_test, predictions_poly))\n",
        "print('MSE:', metrics.mean_squared_error(y_test, predictions_poly))\n",
        "print('RMSE:', np.sqrt(metrics.mean_squared_error(y_test, predictions_poly)))"
      ]
    },
    {
      "cell_type": "markdown",
      "metadata": {
        "id": "ck1dyUjVRSEt"
      },
      "source": [
        "# Principal Component Regression"
      ]
    },
    {
      "cell_type": "code",
      "execution_count": null,
      "metadata": {
        "colab": {
          "base_uri": "https://localhost:8080/",
          "height": 74
        },
        "id": "NyPd4BB2RSEu",
        "outputId": "e0634daf-2b7c-40d4-bb67-b3b854ffc6ca"
      },
      "outputs": [
        {
          "output_type": "execute_result",
          "data": {
            "text/plain": [
              "PCA(n_components=12)"
            ],
            "text/html": [
              "<style>#sk-container-id-3 {color: black;background-color: white;}#sk-container-id-3 pre{padding: 0;}#sk-container-id-3 div.sk-toggleable {background-color: white;}#sk-container-id-3 label.sk-toggleable__label {cursor: pointer;display: block;width: 100%;margin-bottom: 0;padding: 0.3em;box-sizing: border-box;text-align: center;}#sk-container-id-3 label.sk-toggleable__label-arrow:before {content: \"▸\";float: left;margin-right: 0.25em;color: #696969;}#sk-container-id-3 label.sk-toggleable__label-arrow:hover:before {color: black;}#sk-container-id-3 div.sk-estimator:hover label.sk-toggleable__label-arrow:before {color: black;}#sk-container-id-3 div.sk-toggleable__content {max-height: 0;max-width: 0;overflow: hidden;text-align: left;background-color: #f0f8ff;}#sk-container-id-3 div.sk-toggleable__content pre {margin: 0.2em;color: black;border-radius: 0.25em;background-color: #f0f8ff;}#sk-container-id-3 input.sk-toggleable__control:checked~div.sk-toggleable__content {max-height: 200px;max-width: 100%;overflow: auto;}#sk-container-id-3 input.sk-toggleable__control:checked~label.sk-toggleable__label-arrow:before {content: \"▾\";}#sk-container-id-3 div.sk-estimator input.sk-toggleable__control:checked~label.sk-toggleable__label {background-color: #d4ebff;}#sk-container-id-3 div.sk-label input.sk-toggleable__control:checked~label.sk-toggleable__label {background-color: #d4ebff;}#sk-container-id-3 input.sk-hidden--visually {border: 0;clip: rect(1px 1px 1px 1px);clip: rect(1px, 1px, 1px, 1px);height: 1px;margin: -1px;overflow: hidden;padding: 0;position: absolute;width: 1px;}#sk-container-id-3 div.sk-estimator {font-family: monospace;background-color: #f0f8ff;border: 1px dotted black;border-radius: 0.25em;box-sizing: border-box;margin-bottom: 0.5em;}#sk-container-id-3 div.sk-estimator:hover {background-color: #d4ebff;}#sk-container-id-3 div.sk-parallel-item::after {content: \"\";width: 100%;border-bottom: 1px solid gray;flex-grow: 1;}#sk-container-id-3 div.sk-label:hover label.sk-toggleable__label {background-color: #d4ebff;}#sk-container-id-3 div.sk-serial::before {content: \"\";position: absolute;border-left: 1px solid gray;box-sizing: border-box;top: 0;bottom: 0;left: 50%;z-index: 0;}#sk-container-id-3 div.sk-serial {display: flex;flex-direction: column;align-items: center;background-color: white;padding-right: 0.2em;padding-left: 0.2em;position: relative;}#sk-container-id-3 div.sk-item {position: relative;z-index: 1;}#sk-container-id-3 div.sk-parallel {display: flex;align-items: stretch;justify-content: center;background-color: white;position: relative;}#sk-container-id-3 div.sk-item::before, #sk-container-id-3 div.sk-parallel-item::before {content: \"\";position: absolute;border-left: 1px solid gray;box-sizing: border-box;top: 0;bottom: 0;left: 50%;z-index: -1;}#sk-container-id-3 div.sk-parallel-item {display: flex;flex-direction: column;z-index: 1;position: relative;background-color: white;}#sk-container-id-3 div.sk-parallel-item:first-child::after {align-self: flex-end;width: 50%;}#sk-container-id-3 div.sk-parallel-item:last-child::after {align-self: flex-start;width: 50%;}#sk-container-id-3 div.sk-parallel-item:only-child::after {width: 0;}#sk-container-id-3 div.sk-dashed-wrapped {border: 1px dashed gray;margin: 0 0.4em 0.5em 0.4em;box-sizing: border-box;padding-bottom: 0.4em;background-color: white;}#sk-container-id-3 div.sk-label label {font-family: monospace;font-weight: bold;display: inline-block;line-height: 1.2em;}#sk-container-id-3 div.sk-label-container {text-align: center;}#sk-container-id-3 div.sk-container {/* jupyter's `normalize.less` sets `[hidden] { display: none; }` but bootstrap.min.css set `[hidden] { display: none !important; }` so we also need the `!important` here to be able to override the default hidden behavior on the sphinx rendered scikit-learn.org. See: https://github.com/scikit-learn/scikit-learn/issues/21755 */display: inline-block !important;position: relative;}#sk-container-id-3 div.sk-text-repr-fallback {display: none;}</style><div id=\"sk-container-id-3\" class=\"sk-top-container\"><div class=\"sk-text-repr-fallback\"><pre>PCA(n_components=12)</pre><b>In a Jupyter environment, please rerun this cell to show the HTML representation or trust the notebook. <br />On GitHub, the HTML representation is unable to render, please try loading this page with nbviewer.org.</b></div><div class=\"sk-container\" hidden><div class=\"sk-item\"><div class=\"sk-estimator sk-toggleable\"><input class=\"sk-toggleable__control sk-hidden--visually\" id=\"sk-estimator-id-3\" type=\"checkbox\" checked><label for=\"sk-estimator-id-3\" class=\"sk-toggleable__label sk-toggleable__label-arrow\">PCA</label><div class=\"sk-toggleable__content\"><pre>PCA(n_components=12)</pre></div></div></div></div></div>"
            ]
          },
          "metadata": {},
          "execution_count": 40
        }
      ],
      "source": [
        "# first perform PCA and choose the number of components\n",
        "from sklearn.decomposition import PCA\n",
        "pca = PCA(n_components=12)\n",
        "pca.fit(X_train)"
      ]
    },
    {
      "cell_type": "code",
      "execution_count": null,
      "metadata": {
        "colab": {
          "base_uri": "https://localhost:8080/",
          "height": 465
        },
        "id": "_dKQEpg9RSEu",
        "outputId": "3aecd2b0-0c14-426a-8f9f-2ca400b0e844"
      },
      "outputs": [
        {
          "output_type": "display_data",
          "data": {
            "text/plain": [
              "<Figure size 640x480 with 1 Axes>"
            ],
            "image/png": "[encoded data removed]"
          },
          "metadata": {}
        }
      ],
      "source": [
        "plt.plot(np.cumsum(pca.explained_variance_ratio_))\n",
        "plt.xlabel('number of components')\n",
        "plt.ylabel('cumulative explained variance');"
      ]
    },
    {
      "cell_type": "code",
      "execution_count": null,
      "metadata": {
        "id": "lx2HxcEhRSEu"
      },
      "outputs": [],
      "source": [
        "# perform PCA with the chosen number of components, fit it only on the training data\n",
        "# and use this model to transform both train and test sets\n",
        "pca = PCA(n_components=2)\n",
        "pca.fit(X_train)\n",
        "X_pca_train = pca.transform(X_train)\n",
        "X_pca_test = pca.transform(X_test)"
      ]
    },
    {
      "cell_type": "code",
      "execution_count": null,
      "metadata": {
        "colab": {
          "base_uri": "https://localhost:8080/",
          "height": 74
        },
        "id": "qejalFYaRSEu",
        "outputId": "7f65f7ad-05ed-4499-8de8-48fbf4654096"
      },
      "outputs": [
        {
          "output_type": "execute_result",
          "data": {
            "text/plain": [
              "LinearRegression()"
            ],
            "text/html": [
              "<style>#sk-container-id-4 {color: black;background-color: white;}#sk-container-id-4 pre{padding: 0;}#sk-container-id-4 div.sk-toggleable {background-color: white;}#sk-container-id-4 label.sk-toggleable__label {cursor: pointer;display: block;width: 100%;margin-bottom: 0;padding: 0.3em;box-sizing: border-box;text-align: center;}#sk-container-id-4 label.sk-toggleable__label-arrow:before {content: \"▸\";float: left;margin-right: 0.25em;color: #696969;}#sk-container-id-4 label.sk-toggleable__label-arrow:hover:before {color: black;}#sk-container-id-4 div.sk-estimator:hover label.sk-toggleable__label-arrow:before {color: black;}#sk-container-id-4 div.sk-toggleable__content {max-height: 0;max-width: 0;overflow: hidden;text-align: left;background-color: #f0f8ff;}#sk-container-id-4 div.sk-toggleable__content pre {margin: 0.2em;color: black;border-radius: 0.25em;background-color: #f0f8ff;}#sk-container-id-4 input.sk-toggleable__control:checked~div.sk-toggleable__content {max-height: 200px;max-width: 100%;overflow: auto;}#sk-container-id-4 input.sk-toggleable__control:checked~label.sk-toggleable__label-arrow:before {content: \"▾\";}#sk-container-id-4 div.sk-estimator input.sk-toggleable__control:checked~label.sk-toggleable__label {background-color: #d4ebff;}#sk-container-id-4 div.sk-label input.sk-toggleable__control:checked~label.sk-toggleable__label {background-color: #d4ebff;}#sk-container-id-4 input.sk-hidden--visually {border: 0;clip: rect(1px 1px 1px 1px);clip: rect(1px, 1px, 1px, 1px);height: 1px;margin: -1px;overflow: hidden;padding: 0;position: absolute;width: 1px;}#sk-container-id-4 div.sk-estimator {font-family: monospace;background-color: #f0f8ff;border: 1px dotted black;border-radius: 0.25em;box-sizing: border-box;margin-bottom: 0.5em;}#sk-container-id-4 div.sk-estimator:hover {background-color: #d4ebff;}#sk-container-id-4 div.sk-parallel-item::after {content: \"\";width: 100%;border-bottom: 1px solid gray;flex-grow: 1;}#sk-container-id-4 div.sk-label:hover label.sk-toggleable__label {background-color: #d4ebff;}#sk-container-id-4 div.sk-serial::before {content: \"\";position: absolute;border-left: 1px solid gray;box-sizing: border-box;top: 0;bottom: 0;left: 50%;z-index: 0;}#sk-container-id-4 div.sk-serial {display: flex;flex-direction: column;align-items: center;background-color: white;padding-right: 0.2em;padding-left: 0.2em;position: relative;}#sk-container-id-4 div.sk-item {position: relative;z-index: 1;}#sk-container-id-4 div.sk-parallel {display: flex;align-items: stretch;justify-content: center;background-color: white;position: relative;}#sk-container-id-4 div.sk-item::before, #sk-container-id-4 div.sk-parallel-item::before {content: \"\";position: absolute;border-left: 1px solid gray;box-sizing: border-box;top: 0;bottom: 0;left: 50%;z-index: -1;}#sk-container-id-4 div.sk-parallel-item {display: flex;flex-direction: column;z-index: 1;position: relative;background-color: white;}#sk-container-id-4 div.sk-parallel-item:first-child::after {align-self: flex-end;width: 50%;}#sk-container-id-4 div.sk-parallel-item:last-child::after {align-self: flex-start;width: 50%;}#sk-container-id-4 div.sk-parallel-item:only-child::after {width: 0;}#sk-container-id-4 div.sk-dashed-wrapped {border: 1px dashed gray;margin: 0 0.4em 0.5em 0.4em;box-sizing: border-box;padding-bottom: 0.4em;background-color: white;}#sk-container-id-4 div.sk-label label {font-family: monospace;font-weight: bold;display: inline-block;line-height: 1.2em;}#sk-container-id-4 div.sk-label-container {text-align: center;}#sk-container-id-4 div.sk-container {/* jupyter's `normalize.less` sets `[hidden] { display: none; }` but bootstrap.min.css set `[hidden] { display: none !important; }` so we also need the `!important` here to be able to override the default hidden behavior on the sphinx rendered scikit-learn.org. See: https://github.com/scikit-learn/scikit-learn/issues/21755 */display: inline-block !important;position: relative;}#sk-container-id-4 div.sk-text-repr-fallback {display: none;}</style><div id=\"sk-container-id-4\" class=\"sk-top-container\"><div class=\"sk-text-repr-fallback\"><pre>LinearRegression()</pre><b>In a Jupyter environment, please rerun this cell to show the HTML representation or trust the notebook. <br />On GitHub, the HTML representation is unable to render, please try loading this page with nbviewer.org.</b></div><div class=\"sk-container\" hidden><div class=\"sk-item\"><div class=\"sk-estimator sk-toggleable\"><input class=\"sk-toggleable__control sk-hidden--visually\" id=\"sk-estimator-id-4\" type=\"checkbox\" checked><label for=\"sk-estimator-id-4\" class=\"sk-toggleable__label sk-toggleable__label-arrow\">LinearRegression</label><div class=\"sk-toggleable__content\"><pre>LinearRegression()</pre></div></div></div></div></div>"
            ]
          },
          "metadata": {},
          "execution_count": 44
        }
      ],
      "source": [
        "# perform linear regression with the results of the PCA\n",
        "regressor2 = LinearRegression()\n",
        "regressor2.fit(X_pca_train, y_train)"
      ]
    },
    {
      "cell_type": "code",
      "execution_count": null,
      "metadata": {
        "id": "vULbugJSRSEu"
      },
      "outputs": [],
      "source": [
        "predictions_lr_pca = regressor2.predict(X_pca_test)"
      ]
    },
    {
      "cell_type": "code",
      "execution_count": null,
      "metadata": {
        "colab": {
          "base_uri": "https://localhost:8080/",
          "height": 542
        },
        "id": "eSe8Df0URSEu",
        "outputId": "c1ccb9db-0cbd-48dc-d5b8-5bcbfdb7afee"
      },
      "outputs": [
        {
          "output_type": "display_data",
          "data": {
            "text/plain": [
              "<Figure size 800x600 with 1 Axes>"
            ],
            "image/png": "[encoded data removed]"
          },
          "metadata": {}
        }
      ],
      "source": [
        "#create a scatter plot of true and predicted values\n",
        "plt.figure(figsize=(8,6))\n",
        "plt.scatter(y_test,predictions_lr_pca,c='red')\n",
        "plt.xlabel('Alc. Vol % true')\n",
        "plt.ylabel('Alc. Vol % predicted')\n",
        "#plot a regression line\n",
        "m, b = np.polyfit(y_test,predictions_lr_pca, 1)\n",
        "plt.plot(y_test, m*y_test + b)\n",
        "plt.show()"
      ]
    },
    {
      "cell_type": "code",
      "execution_count": null,
      "metadata": {
        "colab": {
          "base_uri": "https://localhost:8080/"
        },
        "id": "em7ldVpFRSEv",
        "outputId": "ae3bbde6-a457-4494-c46d-25a667956930"
      },
      "outputs": [
        {
          "output_type": "stream",
          "name": "stdout",
          "text": [
            "MAE: 0.42427901786770467\n",
            "MSE: 0.26957118719849393\n",
            "RMSE: 0.5192024529973774\n"
          ]
        }
      ],
      "source": [
        "print('MAE:', metrics.mean_absolute_error(y_test, predictions_lr_pca))\n",
        "print('MSE:', metrics.mean_squared_error(y_test, predictions_lr_pca))\n",
        "print('RMSE:', np.sqrt(metrics.mean_squared_error(y_test, predictions_lr_pca)))"
      ]
    }
  ],
  "metadata": {
    "colab": {
      "provenance": [],
      "include_colab_link": true
    },
    "kernelspec": {
      "display_name": "Python 3",
      "language": "python",
      "name": "python3"
    },
    "language_info": {
      "codemirror_mode": {
        "name": "ipython",
        "version": 3
      },
      "file_extension": ".py",
      "mimetype": "text/x-python",
      "name": "python",
      "nbconvert_exporter": "python",
      "pygments_lexer": "ipython3",
      "version": "3.8.5"
    }
  },
  "nbformat": 4,
  "nbformat_minor": 0
}